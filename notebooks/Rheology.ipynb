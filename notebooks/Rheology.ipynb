{
 "cells": [
  {
   "cell_type": "code",
   "execution_count": 1,
   "metadata": {},
   "outputs": [],
   "source": [
    "from sympy import *"
   ]
  },
  {
   "cell_type": "code",
   "execution_count": 2,
   "metadata": {},
   "outputs": [],
   "source": [
    "Exx, Eyy, Exy = symbols('Exx, Eyy, Exy')"
   ]
  },
  {
   "cell_type": "code",
   "execution_count": 3,
   "metadata": {},
   "outputs": [],
   "source": [
    "Eii = sqrt(Rational(1,2)*(Exx**2 + Eyy**2) + Exy*2)"
   ]
  },
  {
   "cell_type": "code",
   "execution_count": 4,
   "metadata": {},
   "outputs": [
    {
     "data": {
      "text/latex": [
       "$\\displaystyle \\frac{Exx}{2 \\sqrt{\\frac{Exx^{2}}{2} + 2 Exy + \\frac{Eyy^{2}}{2}}}$"
      ],
      "text/plain": [
       "Exx/(2*sqrt(Exx**2/2 + 2*Exy + Eyy**2/2))"
      ]
     },
     "execution_count": 4,
     "metadata": {},
     "output_type": "execute_result"
    }
   ],
   "source": [
    "Eii.diff(Exx)"
   ]
  },
  {
   "cell_type": "code",
   "execution_count": 5,
   "metadata": {},
   "outputs": [
    {
     "data": {
      "text/latex": [
       "$\\displaystyle \\frac{1}{\\sqrt{\\frac{Exx^{2}}{2} + 2 Exy + \\frac{Eyy^{2}}{2}}}$"
      ],
      "text/plain": [
       "1/sqrt(Exx**2/2 + 2*Exy + Eyy**2/2)"
      ]
     },
     "execution_count": 5,
     "metadata": {},
     "output_type": "execute_result"
    }
   ],
   "source": [
    "Eii.diff(Exy)"
   ]
  },
  {
   "cell_type": "code",
   "execution_count": 10,
   "metadata": {},
   "outputs": [
    {
     "data": {
      "text/latex": [
       "$\\displaystyle - 2 B \\eta^{2} τII^{n - 2} \\left(n - 1\\right)$"
      ],
      "text/plain": [
       "-2*B*eta**2*τII**(n - 2)*(n - 1)"
      ]
     },
     "execution_count": 10,
     "metadata": {},
     "output_type": "execute_result"
    }
   ],
   "source": [
    "B, n, τII, eta_el = symbols('B, n, τII, eta_el')\n",
    "eta_vis =  1/(2*B)*τII**(1-n)\n",
    "eta      = 1/(1/eta_vis + 1/eta_el)\n",
    "eta.diff(τII).subs(eta, \"eta\").simplify()"
   ]
  },
  {
   "cell_type": "code",
   "execution_count": null,
   "metadata": {},
   "outputs": [],
   "source": []
  }
 ],
 "metadata": {
  "kernelspec": {
   "display_name": "Python 3",
   "language": "python",
   "name": "python3"
  },
  "language_info": {
   "codemirror_mode": {
    "name": "ipython",
    "version": 3
   },
   "file_extension": ".py",
   "mimetype": "text/x-python",
   "name": "python",
   "nbconvert_exporter": "python",
   "pygments_lexer": "ipython3",
   "version": "3.9.6"
  }
 },
 "nbformat": 4,
 "nbformat_minor": 2
}
