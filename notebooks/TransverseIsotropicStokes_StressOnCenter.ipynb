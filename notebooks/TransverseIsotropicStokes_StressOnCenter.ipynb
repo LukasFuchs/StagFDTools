{
 "cells": [
  {
   "cell_type": "code",
   "execution_count": 187,
   "metadata": {},
   "outputs": [],
   "source": [
    "from sympy import *"
   ]
  },
  {
   "cell_type": "code",
   "execution_count": 188,
   "metadata": {},
   "outputs": [],
   "source": [
    "dx, dy, eta = symbols('dx, dy, eta')"
   ]
  },
  {
   "cell_type": "code",
   "execution_count": 189,
   "metadata": {},
   "outputs": [],
   "source": [
    "D11, D22, D33, D12, D13, D23 = symbols('D11, D22, D33, D12, D13, D23')\n",
    "D = Matrix([[D11, D12, D13], [D12, D22, D23], [D13, D23, D33]])\n",
    "# D = Matrix([[2*eta, 0, 0], [0, 2*eta, 0], [0, 0, 2*eta]])"
   ]
  },
  {
   "cell_type": "code",
   "execution_count": 190,
   "metadata": {},
   "outputs": [],
   "source": [
    "uSW, uS, uSE = symbols('uSW, uS, uSE') \n",
    "uW,  uC, uE  = symbols('uW,  uC, uE') \n",
    "uNW, uN, uNE = symbols('uNW, uN, uNE')\n",
    "vSSW, vSSE   = symbols('vSSW, vSSE')\n",
    "vSWW, vSW, vSE, vSEE = symbols('vSWW, vSW, vSE, vSEE')\n",
    "vNWW, vNW, vNE, vNEE = symbols('vNWW, vNW, vNE, vNEE')\n",
    "vNNW, vNNE   = symbols('vNNW, vNNE')\n",
    "uSSW, uSS, uSSE = symbols('uSSW, uSS, uSSE')\n",
    "uNNW, uNN, uNNE = symbols('uNNW, uNN, uNNE')\n",
    "\n",
    "\n",
    "u = Matrix([[uSSW, uSW, uW, uNW, uNNW],\n",
    "            [uSS,  uS,  uC, uN,  uNN], \n",
    "            [uSSE, uSE, uE, uNE, uNNE] ])\n",
    "v = Matrix([[0,    vSWW, vNWW, 0],\n",
    "            [vSSW, vSW,  vNW, vNNW],\n",
    "            [vSSE, vSE,  vNE, vNNE],\n",
    "            [0,    vSEE, vNEE, 0]]) \n",
    "\n",
    "dudx = (u[1:,:] - u[:-1,:])/dx\n",
    "dvdy = (v[:,1:] - v[:,:-1])/dy\n",
    "dvdx = (v[1:,:] - v[:-1,:])/dx\n",
    "dudy = (u[:,1:] - u[:,:-1])/dy \n",
    "\n",
    "divV = dudx[:,1:-1] + dvdy[1:-1,:]\n",
    "exx  = dudx[:,1:-1] - Rational(1,2) * divV\n",
    "eyy  = dvdy[1:-1,:] - Rational(1,2) * divV\n",
    "exy  = Rational(1,2) * (dudy + dvdx)\n",
    "\n",
    "exy_av = Rational(1,4) * (exy[1:,1:] + exy[:-1,:-1] + exy[1:,:-1] + exy[:-1,1:] )\n",
    "Txx  = D[0,0]*exx + D[0,1]*eyy + D[0,2]*exy_av\n",
    "Txy  = D[2,0]*exx + D[2,1]*eyy + D[2,2]*exy_av\n",
    "Txy_av = Rational(1,4) * (Txy[1:,1:] + Txy[:-1,:-1] + Txy[1:,:-1] + Txy[:-1,1:] )\n",
    "fx = (Txx[1:,1] - Txx[:-1,1])/dx + (Txy_av[:,1:] - Txy_av[:,:-1])/dy"
   ]
  },
  {
   "cell_type": "code",
   "execution_count": 191,
   "metadata": {},
   "outputs": [],
   "source": [
    "vSW, vS, vSE = symbols('vSW, vS, vSE') \n",
    "vW,  vC, vE  = symbols('vW,  vC, vE') \n",
    "vNW, vN, vNE = symbols('vNW, vN, vNE')\n",
    "uSSW, uSSE   = symbols('uSSW, uSSE')\n",
    "uSWW, uSW, uSE, uSEE = symbols('uSWW, uSW, uSE, uSEE')\n",
    "uNWW, uNW, uNE, uNEE = symbols('uNWW, uNW, uNE, uNEE')\n",
    "uNNW, uNNE   = symbols('uNNW, uNNE')\n",
    "vSWW, vWW, vNWW = symbols('vSWW, vWW, vNWW')\n",
    "vSEE, vEE, vNEE = symbols('vSEE, vEE, vNEE')\n",
    "\n",
    "v = Matrix([[vSWW, vWW, vNWW],\n",
    "            [vSW,  vW,  vNW],\n",
    "            [vS,   vC,  vN], \n",
    "            [vSE,  vE,  vNE],\n",
    "            [vSEE, vEE, vNEE] ])\n",
    "u = Matrix([[0,    uSWW, uNWW, 0],\n",
    "            [uSSW, uSW,  uNW, uNNW],\n",
    "            [uSSE, uSE,  uNE, uNNE],\n",
    "            [0,    uSEE, uNEE, 0]]) \n",
    "\n",
    "dudx = (u[1:,:] - u[:-1,:])/dx\n",
    "dvdy = (v[:,1:] - v[:,:-1])/dy\n",
    "dvdx = (v[1:,:] - v[:-1,:])/dx\n",
    "dudy = (u[:,1:] - u[:,:-1])/dy \n",
    "\n",
    "divV = dudx[:,1:-1] + dvdy[1:-1,:]\n",
    "exx  = dudx[:,1:-1] - Rational(1,2) * divV\n",
    "eyy  = dvdy[1:-1,:] - Rational(1,2) * divV\n",
    "exy  = Rational(1,2) * (dudy + dvdx)\n",
    "\n",
    "exy_av = Rational(1,4) * (exy[1:,1:] + exy[:-1,:-1] + exy[1:,:-1] + exy[:-1,1:] )\n",
    "Tyy  = D[1,0]*exx + D[1,1]*eyy + D[1,2]*exy_av\n",
    "Txy  = D[2,0]*exx + D[2,1]*eyy + D[2,2]*exy_av\n",
    "Txy_av = Rational(1,4) * (Txy[1:,1:] + Txy[:-1,:-1] + Txy[1:,:-1] + Txy[:-1,1:] )\n",
    "fy = (Tyy[1,1:] - Tyy[1,:-1])/dy + (Txy_av[1:,:] - Txy_av[:-1,:])/dx"
   ]
  },
  {
   "cell_type": "code",
   "execution_count": 192,
   "metadata": {},
   "outputs": [
    {
     "data": {
      "text/latex": [
       "$\\displaystyle - \\frac{D_{13}}{8 dy^{2}}$"
      ],
      "text/plain": [
       "-D13/(8*dy**2)"
      ]
     },
     "execution_count": 192,
     "metadata": {},
     "output_type": "execute_result"
    }
   ],
   "source": [
    "(fx.diff(vNNW) - fy.diff(uSSE))[0].simplify()"
   ]
  },
  {
   "cell_type": "code",
   "execution_count": 193,
   "metadata": {},
   "outputs": [
    {
     "data": {
      "text/latex": [
       "$\\displaystyle \\frac{D_{23}}{8 dx^{2}}$"
      ],
      "text/plain": [
       "D23/(8*dx**2)"
      ]
     },
     "execution_count": 193,
     "metadata": {},
     "output_type": "execute_result"
    }
   ],
   "source": [
    "(fx.diff(vNWW) - fy.diff(uSEE))[0].simplify()"
   ]
  },
  {
   "cell_type": "code",
   "execution_count": 194,
   "metadata": {},
   "outputs": [
    {
     "data": {
      "text/latex": [
       "$\\displaystyle \\frac{D_{23}}{8 dx^{2}}$"
      ],
      "text/plain": [
       "D23/(8*dx**2)"
      ]
     },
     "execution_count": 194,
     "metadata": {},
     "output_type": "execute_result"
    }
   ],
   "source": [
    "(fx.diff(vSEE) - fy.diff(uNWW))[0].simplify()"
   ]
  },
  {
   "cell_type": "code",
   "execution_count": 195,
   "metadata": {},
   "outputs": [
    {
     "data": {
      "text/latex": [
       "$\\displaystyle \\frac{D_{11}}{2 dx dy} + \\frac{D_{13}}{8 dy^{2}} - \\frac{D_{22}}{2 dx dy} - \\frac{D_{23}}{8 dx^{2}}$"
      ],
      "text/plain": [
       "D11/(2*dx*dy) + D13/(8*dy**2) - D22/(2*dx*dy) - D23/(8*dx**2)"
      ]
     },
     "execution_count": 195,
     "metadata": {},
     "output_type": "execute_result"
    }
   ],
   "source": [
    "(fx.diff(vNW) - fy.diff(uSE))[0].simplify()"
   ]
  },
  {
   "cell_type": "code",
   "execution_count": 196,
   "metadata": {},
   "outputs": [
    {
     "data": {
      "text/latex": [
       "$\\displaystyle - \\frac{D_{11}}{2 dx dy} + \\frac{D_{13}}{8 dy^{2}} + \\frac{D_{22}}{2 dx dy} - \\frac{D_{23}}{8 dx^{2}}$"
      ],
      "text/plain": [
       "-D11/(2*dx*dy) + D13/(8*dy**2) + D22/(2*dx*dy) - D23/(8*dx**2)"
      ]
     },
     "execution_count": 196,
     "metadata": {},
     "output_type": "execute_result"
    }
   ],
   "source": [
    "(fx.diff(vNE) - fy.diff(uSW))[0].simplify()"
   ]
  },
  {
   "cell_type": "code",
   "execution_count": 197,
   "metadata": {},
   "outputs": [
    {
     "data": {
      "text/latex": [
       "$\\displaystyle - \\frac{D_{11}}{2 dx dy} + \\frac{D_{13}}{8 dy^{2}} + \\frac{D_{22}}{2 dx dy} - \\frac{D_{23}}{8 dx^{2}}$"
      ],
      "text/plain": [
       "-D11/(2*dx*dy) + D13/(8*dy**2) + D22/(2*dx*dy) - D23/(8*dx**2)"
      ]
     },
     "execution_count": 197,
     "metadata": {},
     "output_type": "execute_result"
    }
   ],
   "source": [
    "(fx.diff(vSW) - fy.diff(uNE))[0].simplify()"
   ]
  },
  {
   "cell_type": "code",
   "execution_count": 198,
   "metadata": {},
   "outputs": [
    {
     "data": {
      "text/latex": [
       "$\\displaystyle \\frac{D_{11}}{2 dx dy} + \\frac{D_{13}}{8 dy^{2}} - \\frac{D_{22}}{2 dx dy} - \\frac{D_{23}}{8 dx^{2}}$"
      ],
      "text/plain": [
       "D11/(2*dx*dy) + D13/(8*dy**2) - D22/(2*dx*dy) - D23/(8*dx**2)"
      ]
     },
     "execution_count": 198,
     "metadata": {},
     "output_type": "execute_result"
    }
   ],
   "source": [
    "(fx.diff(vSE) - fy.diff(uNW))[0].simplify()"
   ]
  },
  {
   "cell_type": "code",
   "execution_count": 199,
   "metadata": {},
   "outputs": [
    {
     "data": {
      "text/latex": [
       "$\\displaystyle 0$"
      ],
      "text/plain": [
       "0"
      ]
     },
     "execution_count": 199,
     "metadata": {},
     "output_type": "execute_result"
    }
   ],
   "source": [
    "(fx.diff(uN) - fx.diff(uS))[0].simplify()"
   ]
  },
  {
   "cell_type": "code",
   "execution_count": 200,
   "metadata": {},
   "outputs": [
    {
     "data": {
      "text/latex": [
       "$\\displaystyle 0$"
      ],
      "text/plain": [
       "0"
      ]
     },
     "execution_count": 200,
     "metadata": {},
     "output_type": "execute_result"
    }
   ],
   "source": [
    "(fx.diff(uNNE) - fx.diff(uSSW))[0].simplify()"
   ]
  },
  {
   "cell_type": "code",
   "execution_count": 201,
   "metadata": {},
   "outputs": [
    {
     "data": {
      "text/latex": [
       "$\\displaystyle 0$"
      ],
      "text/plain": [
       "0"
      ]
     },
     "execution_count": 201,
     "metadata": {},
     "output_type": "execute_result"
    }
   ],
   "source": [
    "# Free slip boundary\n",
    "uSW, uS, uSE = symbols('uSW, uS, uSE') \n",
    "uW,  uC, uE  = symbols('uW,  uC, uE') \n",
    "uNW, uN, uNE = symbols('uNW, uN, uNE')\n",
    "vSSW, vSSE   = symbols('vSSW, vSSE')\n",
    "vSWW, vSW, vSE, vSEE = symbols('vSWW, vSW, vSE, vSEE')\n",
    "vNWW, vNW, vNE, vNEE = symbols('vNWW, vNW, vNE, vNEE')\n",
    "vNNW, vNNE   = symbols('vNNW, vNNE')\n",
    "uSSW, uSS, uSSE = symbols('uSSW, uSS, uSSE')\n",
    "uNNW, uNN, uNNE = symbols('uNNW, uNN, uNNE')\n",
    "\n",
    "# dudy \n",
    "# uN   = uC\n",
    "uNW  =   uW\n",
    "uNE  =   uE\n",
    "uNNW = -uNW + uW + uSW\n",
    "uNN  =  15*uN - 15*uC + uS  \n",
    "uNNE = -uNE + uE + uSE\n",
    "\n",
    "u = Matrix([[uSSW, uSW, uW, uNW, uNNW],\n",
    "            [uSS,  uS,  uC, uN,  uNN], \n",
    "            [uSSE, uSE, uE, uNE, uNNE] ])\n",
    "\n",
    "v = Matrix([[0,    vSWW, vNWW, 0],\n",
    "            [vSSW, vSW,  vNW, vNNW],\n",
    "            [vSSE, vSE,  vNE, vNNE],\n",
    "            [0,    vSEE, vNEE, 0]])  \n",
    "dudx = (u[1:,:] - u[:-1,:])/dx\n",
    "dvdy = (v[:,1:] - v[:,:-1])/dy\n",
    "dvdx = (v[1:,:] - v[:-1,:])/dx\n",
    "dudy = (u[:,1:] - u[:,:-1])/dy \n",
    "\n",
    "divV = dudx[:,1:-1] + dvdy[1:-1,:]\n",
    "exx  = dudx[:,1:-1] - Rational(1,2) * divV\n",
    "exy  = Rational(1,2) * (dudy + 0*dvdx)\n",
    "\n",
    "exy_av = Rational(1,4) * (exy[1:,1:] + exy[:-1,:-1] + exy[1:,:-1] + exy[:-1,1:] )\n",
    "Tyy    = eyy\n",
    "Txy    = exy_av\n",
    "Txy_av = Rational(1,4) * (Txy[1:,1:] + Txy[:-1,:-1] + Txy[1:,:-1] + Txy[:-1,1:] )\n",
    "fbc    = dudy[1,1:-1] - Txy_av\n",
    "fbc[0,1].simplify()"
   ]
  },
  {
   "cell_type": "code",
   "execution_count": 202,
   "metadata": {},
   "outputs": [
    {
     "data": {
      "text/latex": [
       "$\\displaystyle 0$"
      ],
      "text/plain": [
       "0"
      ]
     },
     "execution_count": 202,
     "metadata": {},
     "output_type": "execute_result"
    }
   ],
   "source": [
    "# No slip boundary\n",
    "uSW, uS, uSE = symbols('uSW, uS, uSE') \n",
    "uW,  uC, uE  = symbols('uW,  uC, uE') \n",
    "uNW, uN, uNE = symbols('uNW, uN, uNE')\n",
    "vSSW, vSSE   = symbols('vSSW, vSSE')\n",
    "vSWW, vSW, vSE, vSEE = symbols('vSWW, vSW, vSE, vSEE')\n",
    "vNWW, vNW, vNE, vNEE = symbols('vNWW, vNW, vNE, vNEE')\n",
    "vNNW, vNNE   = symbols('vNNW, vNNE')\n",
    "uSSW, uSS, uSSE = symbols('uSSW, uSS, uSSE')\n",
    "uNNW, uNN, uNNE = symbols('uNNW, uNN, uNNE')\n",
    "\n",
    "dudy_BC = 0\n",
    "\n",
    "# dudy \n",
    "# uN   = uC\n",
    "uNW  = -uW + 2*dudy_BC\n",
    "uNE  = -uE + 2*dudy_BC\n",
    "uNNW = -uNW + uW + uSW\n",
    "uNN  =  15*uN - 15*uC + uS  \n",
    "uNNE = -uNE + uE + uSE\n",
    "\n",
    "u = Matrix([[uSSW, uSW, uW, uNW, uNNW],\n",
    "            [uSS,  uS,  uC, uN,  uNN], \n",
    "            [uSSE, uSE, uE, uNE, uNNE] ])\n",
    "\n",
    "v = Matrix([[0,    vSWW, vNWW, 0],\n",
    "            [vSSW, vSW,  vNW, vNNW],\n",
    "            [vSSE, vSE,  vNE, vNNE],\n",
    "            [0,    vSEE, vNEE, 0]])  \n",
    "dudx = (u[1:,:] - u[:-1,:])/dx\n",
    "dvdy = (v[:,1:] - v[:,:-1])/dy\n",
    "dvdx = (v[1:,:] - v[:-1,:])/dx\n",
    "dudy = (u[:,1:] - u[:,:-1])/dy \n",
    "\n",
    "divV = dudx[:,1:-1] + dvdy[1:-1,:]\n",
    "exx  = dudx[:,1:-1] - Rational(1,2) * divV\n",
    "exy  = Rational(1,2) * (dudy + 0*dvdx)\n",
    "\n",
    "exy_av = Rational(1,4) * (exy[1:,1:] + exy[:-1,:-1] + exy[1:,:-1] + exy[:-1,1:] )\n",
    "Tyy    = eyy\n",
    "Txy    = exy_av\n",
    "Txy_av = Rational(1,4) * (Txy[1:,1:] + Txy[:-1,:-1] + Txy[1:,:-1] + Txy[:-1,1:] )\n",
    "fbc    = dudy[1,1:-1] - Txy_av\n",
    "fbc[0,1].simplify()"
   ]
  },
  {
   "cell_type": "code",
   "execution_count": null,
   "metadata": {},
   "outputs": [],
   "source": []
  },
  {
   "cell_type": "code",
   "execution_count": null,
   "metadata": {},
   "outputs": [],
   "source": []
  }
 ],
 "metadata": {
  "kernelspec": {
   "display_name": "Python 3",
   "language": "python",
   "name": "python3"
  },
  "language_info": {
   "codemirror_mode": {
    "name": "ipython",
    "version": 3
   },
   "file_extension": ".py",
   "mimetype": "text/x-python",
   "name": "python",
   "nbconvert_exporter": "python",
   "pygments_lexer": "ipython3",
   "version": "3.9.6"
  }
 },
 "nbformat": 4,
 "nbformat_minor": 2
}
