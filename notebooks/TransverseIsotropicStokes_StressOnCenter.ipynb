{
 "cells": [
  {
   "cell_type": "code",
   "execution_count": 1,
   "metadata": {},
   "outputs": [],
   "source": [
    "from sympy import *"
   ]
  },
  {
   "cell_type": "code",
   "execution_count": 2,
   "metadata": {},
   "outputs": [],
   "source": [
    "dx, dy, eta = symbols('dx, dy, eta')"
   ]
  },
  {
   "cell_type": "code",
   "execution_count": 3,
   "metadata": {},
   "outputs": [],
   "source": [
    "uSW, uS, uSE = symbols('uSW, uS, uSE') \n",
    "uW,  uC, uE  = symbols('uW,  uC, uE') \n",
    "uNW, uN, uNE = symbols('uNW, uN, uNE')\n",
    "vSSW, vSSE   = symbols('vSSW, vSSE')\n",
    "vSWW, vSW, vSE, vSEE = symbols('vSWW, vSW, vSE, vSEE')\n",
    "vNWW, vNW, vNE, vNEE = symbols('vNWW, vNW, vNE, vNEE')\n",
    "vNNW, vNNE   = symbols('vNNW, vNNE')\n",
    "uSSW, uSS, uSSE = symbols('uSSW, uSS, uSSE')\n",
    "uNNW, uNN, uNNE = symbols('uNNW, uNN, uNNE')\n",
    "\n",
    "\n",
    "u = Matrix([[uSSW, uSW, uW, uNW, uNNW],\n",
    "            [uSS,  uS,  uC, uN,  uNN], \n",
    "            [uSSE, uSE, uE, uNE, uNNE] ])\n",
    "v = Matrix([[0,    vSWW, vNWW, 0],\n",
    "            [vSSW, vSW,  vNW, vNNW],\n",
    "            [vSSE, vSE,  vNE, vNNE],\n",
    "            [0,    vSEE, vNEE, 0]]) \n",
    "\n",
    "dudx = (u[1:,:] - u[:-1,:])/dx\n",
    "dvdy = (v[:,1:] - v[:,:-1])/dy\n",
    "dvdx = (v[1:,:] - v[:-1,:])/dx\n",
    "dudy = (u[:,1:] - u[:,:-1])/dy \n",
    "\n",
    "divV = dudx[:,1:-1] + dvdy[1:-1,:]\n",
    "exx  = dudx[:,1:-1] - Rational(1,2) * divV\n",
    "exy  = Rational(1,2) * (dudy + dvdx)\n",
    "\n",
    "\n",
    "exy_av = Rational(1,4) * (exy[1:,1:] + exy[:-1,:-1] + exy[1:,:-1] + exy[:-1,1:] )\n",
    "Txx  = 2*eta*exx\n",
    "Txy  = 2*eta*exy_av\n",
    "Txy_av = Rational(1,4) * (Txy[1:,1:] + Txy[:-1,:-1] + Txy[1:,:-1] + Txy[:-1,1:] )\n",
    "fx = (Txx[1:,1] - Txx[:-1,1])/dx + (Txy_av[:,1:] - Txy_av[:,:-1])/dy\n"
   ]
  },
  {
   "cell_type": "code",
   "execution_count": 4,
   "metadata": {},
   "outputs": [],
   "source": [
    "vSW, vS, vSE = symbols('vSW, vS, vSE') \n",
    "vW,  vC, vE  = symbols('vW,  vC, vE') \n",
    "vNW, vN, vNE = symbols('vNW, vN, vNE')\n",
    "uSSW, uSSE   = symbols('uSSW, uSSE')\n",
    "uSWW, uSW, uSE, uSEE = symbols('uSWW, uSW, uSE, uSEE')\n",
    "uNWW, uNW, uNE, uNEE = symbols('uNWW, uNW, uNE, uNEE')\n",
    "uNNW, uNNE   = symbols('uNNW, uNNE')\n",
    "vSWW, vWW, vNWW = symbols('vSWW, vWW, vNWW')\n",
    "vSEE, vEE, vNEE = symbols('vSEE, vEE, vNEE')\n",
    "\n",
    "v = Matrix([[vSWW, vWW, vNWW],\n",
    "            [vSW,  vW,  vNW],\n",
    "            [vS,   vC,  vN], \n",
    "            [vSE,  vE,  vNE],\n",
    "            [vSEE, vEE, vNEE] ])\n",
    "u = Matrix([[0,    uSWW, uNWW, 0],\n",
    "            [uSSW, uSW,  uNW, uNNW],\n",
    "            [uSSE, uSE,  uNE, uNNE],\n",
    "            [0,    uSEE, uNEE, 0]]) \n",
    "\n",
    "dudx = (u[1:,:] - u[:-1,:])/dx\n",
    "dvdy = (v[:,1:] - v[:,:-1])/dy\n",
    "dvdx = (v[1:,:] - v[:-1,:])/dx\n",
    "dudy = (u[:,1:] - u[:,:-1])/dy \n",
    "\n",
    "divV = dudx[:,1:-1] + dvdy[1:-1,:]\n",
    "eyy  = dvdy[1:-1,:] - Rational(1,2) * divV\n",
    "exy  = Rational(1,2) * (dudy + dvdx)\n",
    "\n",
    "exy_av = Rational(1,4) * (exy[1:,1:] + exy[:-1,:-1] + exy[1:,:-1] + exy[:-1,1:] )\n",
    "Tyy  = 2*eta*eyy\n",
    "Txy  = 2*eta*exy_av\n",
    "Txy_av = Rational(1,4) * (Txy[1:,1:] + Txy[:-1,:-1] + Txy[1:,:-1] + Txy[:-1,1:] )\n",
    "fy = (Tyy[1,1:] - Tyy[1,:-1])/dy + (Txy_av[1:,:] - Txy_av[:-1,:])/dx"
   ]
  },
  {
   "cell_type": "code",
   "execution_count": 5,
   "metadata": {},
   "outputs": [
    {
     "data": {
      "text/latex": [
       "$\\displaystyle \\left[\\begin{matrix}0\\end{matrix}\\right]$"
      ],
      "text/plain": [
       "Matrix([[0]])"
      ]
     },
     "execution_count": 5,
     "metadata": {},
     "output_type": "execute_result"
    }
   ],
   "source": [
    "fx.diff(vNNW) - fy.diff(uSSE)"
   ]
  },
  {
   "cell_type": "code",
   "execution_count": 6,
   "metadata": {},
   "outputs": [
    {
     "data": {
      "text/latex": [
       "$\\displaystyle \\left[\\begin{matrix}0\\end{matrix}\\right]$"
      ],
      "text/plain": [
       "Matrix([[0]])"
      ]
     },
     "execution_count": 6,
     "metadata": {},
     "output_type": "execute_result"
    }
   ],
   "source": [
    "fx.diff(vNWW) - fy.diff(uSEE)"
   ]
  },
  {
   "cell_type": "code",
   "execution_count": 7,
   "metadata": {},
   "outputs": [
    {
     "data": {
      "text/latex": [
       "$\\displaystyle \\left[\\begin{matrix}0\\end{matrix}\\right]$"
      ],
      "text/plain": [
       "Matrix([[0]])"
      ]
     },
     "execution_count": 7,
     "metadata": {},
     "output_type": "execute_result"
    }
   ],
   "source": [
    "fx.diff(vSEE) - fy.diff(uNWW)"
   ]
  },
  {
   "cell_type": "code",
   "execution_count": 8,
   "metadata": {},
   "outputs": [
    {
     "data": {
      "text/latex": [
       "$\\displaystyle \\left[\\begin{matrix}0\\end{matrix}\\right]$"
      ],
      "text/plain": [
       "Matrix([[0]])"
      ]
     },
     "execution_count": 8,
     "metadata": {},
     "output_type": "execute_result"
    }
   ],
   "source": [
    "fx.diff(vNW) - fy.diff(uSE)"
   ]
  },
  {
   "cell_type": "code",
   "execution_count": 9,
   "metadata": {},
   "outputs": [
    {
     "data": {
      "text/latex": [
       "$\\displaystyle \\left[\\begin{matrix}0\\end{matrix}\\right]$"
      ],
      "text/plain": [
       "Matrix([[0]])"
      ]
     },
     "execution_count": 9,
     "metadata": {},
     "output_type": "execute_result"
    }
   ],
   "source": [
    "fx.diff(vNE) - fy.diff(uSW)"
   ]
  },
  {
   "cell_type": "code",
   "execution_count": 10,
   "metadata": {},
   "outputs": [
    {
     "data": {
      "text/latex": [
       "$\\displaystyle \\left[\\begin{matrix}0\\end{matrix}\\right]$"
      ],
      "text/plain": [
       "Matrix([[0]])"
      ]
     },
     "execution_count": 10,
     "metadata": {},
     "output_type": "execute_result"
    }
   ],
   "source": [
    "fx.diff(vSW) - fy.diff(uNE)"
   ]
  },
  {
   "cell_type": "code",
   "execution_count": 11,
   "metadata": {},
   "outputs": [
    {
     "data": {
      "text/latex": [
       "$\\displaystyle \\left[\\begin{matrix}0\\end{matrix}\\right]$"
      ],
      "text/plain": [
       "Matrix([[0]])"
      ]
     },
     "execution_count": 11,
     "metadata": {},
     "output_type": "execute_result"
    }
   ],
   "source": [
    "fx.diff(vSE) - fy.diff(uNW)"
   ]
  },
  {
   "cell_type": "code",
   "execution_count": 12,
   "metadata": {},
   "outputs": [
    {
     "data": {
      "text/latex": [
       "$\\displaystyle \\left[\\begin{matrix}0\\end{matrix}\\right]$"
      ],
      "text/plain": [
       "Matrix([[0]])"
      ]
     },
     "execution_count": 12,
     "metadata": {},
     "output_type": "execute_result"
    }
   ],
   "source": [
    "fx.diff(uN) - fx.diff(uS)"
   ]
  },
  {
   "cell_type": "code",
   "execution_count": 13,
   "metadata": {},
   "outputs": [
    {
     "data": {
      "text/latex": [
       "$\\displaystyle \\left[\\begin{matrix}0\\end{matrix}\\right]$"
      ],
      "text/plain": [
       "Matrix([[0]])"
      ]
     },
     "execution_count": 13,
     "metadata": {},
     "output_type": "execute_result"
    }
   ],
   "source": [
    "fx.diff(uNNE) - fx.diff(uSSW)"
   ]
  },
  {
   "cell_type": "code",
   "execution_count": null,
   "metadata": {},
   "outputs": [
    {
     "data": {
      "text/latex": [
       "$\\displaystyle 0$"
      ],
      "text/plain": [
       "0"
      ]
     },
     "execution_count": 14,
     "metadata": {},
     "output_type": "execute_result"
    }
   ],
   "source": [
    "# Free slip boundary\n",
    "uSW, uS, uSE = symbols('uSW, uS, uSE') \n",
    "uW,  uC, uE  = symbols('uW,  uC, uE') \n",
    "uNW, uN, uNE = symbols('uNW, uN, uNE')\n",
    "vSSW, vSSE   = symbols('vSSW, vSSE')\n",
    "vSWW, vSW, vSE, vSEE = symbols('vSWW, vSW, vSE, vSEE')\n",
    "vNWW, vNW, vNE, vNEE = symbols('vNWW, vNW, vNE, vNEE')\n",
    "vNNW, vNNE   = symbols('vNNW, vNNE')\n",
    "uSSW, uSS, uSSE = symbols('uSSW, uSS, uSSE')\n",
    "uNNW, uNN, uNNE = symbols('uNNW, uNN, uNNE')\n",
    "\n",
    "# dudy \n",
    "# uN   = uC\n",
    "uNW  =   uW\n",
    "uNE  =   uE\n",
    "uNNW = -uNW + uW + uSW\n",
    "uNN  =  15*uN - 15*uC + uS  \n",
    "uNNE = -uNE + uE + uSE\n",
    "\n",
    "u = Matrix([[uSSW, uSW, uW, uNW, uNNW],\n",
    "            [uSS,  uS,  uC, uN,  uNN], \n",
    "            [uSSE, uSE, uE, uNE, uNNE] ])\n",
    "\n",
    "v = Matrix([[0,    vSWW, vNWW, 0],\n",
    "            [vSSW, vSW,  vNW, vNNW],\n",
    "            [vSSE, vSE,  vNE, vNNE],\n",
    "            [0,    vSEE, vNEE, 0]])  \n",
    "dudx = (u[1:,:] - u[:-1,:])/dx\n",
    "dvdy = (v[:,1:] - v[:,:-1])/dy\n",
    "dvdx = (v[1:,:] - v[:-1,:])/dx\n",
    "dudy = (u[:,1:] - u[:,:-1])/dy \n",
    "\n",
    "divV = dudx[:,1:-1] + dvdy[1:-1,:]\n",
    "exx  = dudx[:,1:-1] - Rational(1,2) * divV\n",
    "exy  = Rational(1,2) * (dudy + 0*dvdx)\n",
    "\n",
    "exy_av = Rational(1,4) * (exy[1:,1:] + exy[:-1,:-1] + exy[1:,:-1] + exy[:-1,1:] )\n",
    "Tyy    = eyy\n",
    "Txy    = exy_av\n",
    "Txy_av = Rational(1,4) * (Txy[1:,1:] + Txy[:-1,:-1] + Txy[1:,:-1] + Txy[:-1,1:] )\n",
    "fbc    = dudy[1,1:-1] - Txy_av\n",
    "fbc[0,1].simplify()"
   ]
  },
  {
   "cell_type": "code",
   "execution_count": 15,
   "metadata": {},
   "outputs": [
    {
     "data": {
      "text/latex": [
       "$\\displaystyle 0$"
      ],
      "text/plain": [
       "0"
      ]
     },
     "execution_count": 15,
     "metadata": {},
     "output_type": "execute_result"
    }
   ],
   "source": [
    "# No slip boundary\n",
    "uSW, uS, uSE = symbols('uSW, uS, uSE') \n",
    "uW,  uC, uE  = symbols('uW,  uC, uE') \n",
    "uNW, uN, uNE = symbols('uNW, uN, uNE')\n",
    "vSSW, vSSE   = symbols('vSSW, vSSE')\n",
    "vSWW, vSW, vSE, vSEE = symbols('vSWW, vSW, vSE, vSEE')\n",
    "vNWW, vNW, vNE, vNEE = symbols('vNWW, vNW, vNE, vNEE')\n",
    "vNNW, vNNE   = symbols('vNNW, vNNE')\n",
    "uSSW, uSS, uSSE = symbols('uSSW, uSS, uSSE')\n",
    "uNNW, uNN, uNNE = symbols('uNNW, uNN, uNNE')\n",
    "\n",
    "# dudy \n",
    "# uN   = uC\n",
    "uNW  = -uW + 2*dudy_BC\n",
    "uNE  = -uE + 2*dudy_BC\n",
    "uNNW = -uNW + uW + uSW\n",
    "uNN  =  15*uN - 15*uC + uS  \n",
    "uNNE = -uNE + uE + uSE\n",
    "\n",
    "u = Matrix([[uSSW, uSW, uW, uNW, uNNW],\n",
    "            [uSS,  uS,  uC, uN,  uNN], \n",
    "            [uSSE, uSE, uE, uNE, uNNE] ])\n",
    "\n",
    "v = Matrix([[0,    vSWW, vNWW, 0],\n",
    "            [vSSW, vSW,  vNW, vNNW],\n",
    "            [vSSE, vSE,  vNE, vNNE],\n",
    "            [0,    vSEE, vNEE, 0]])  \n",
    "dudx = (u[1:,:] - u[:-1,:])/dx\n",
    "dvdy = (v[:,1:] - v[:,:-1])/dy\n",
    "dvdx = (v[1:,:] - v[:-1,:])/dx\n",
    "dudy = (u[:,1:] - u[:,:-1])/dy \n",
    "\n",
    "divV = dudx[:,1:-1] + dvdy[1:-1,:]\n",
    "exx  = dudx[:,1:-1] - Rational(1,2) * divV\n",
    "exy  = Rational(1,2) * (dudy + 0*dvdx)\n",
    "\n",
    "exy_av = Rational(1,4) * (exy[1:,1:] + exy[:-1,:-1] + exy[1:,:-1] + exy[:-1,1:] )\n",
    "Tyy    = eyy\n",
    "Txy    = exy_av\n",
    "Txy_av = Rational(1,4) * (Txy[1:,1:] + Txy[:-1,:-1] + Txy[1:,:-1] + Txy[:-1,1:] )\n",
    "fbc    = dudy[1,1:-1] - Txy_av\n",
    "fbc[0,1].simplify()"
   ]
  },
  {
   "cell_type": "code",
   "execution_count": null,
   "metadata": {},
   "outputs": [],
   "source": []
  }
 ],
 "metadata": {
  "kernelspec": {
   "display_name": "Python 3",
   "language": "python",
   "name": "python3"
  },
  "language_info": {
   "codemirror_mode": {
    "name": "ipython",
    "version": 3
   },
   "file_extension": ".py",
   "mimetype": "text/x-python",
   "name": "python",
   "nbconvert_exporter": "python",
   "pygments_lexer": "ipython3",
   "version": "3.9.6"
  }
 },
 "nbformat": 4,
 "nbformat_minor": 2
}
