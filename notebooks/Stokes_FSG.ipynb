{
 "cells": [
  {
   "cell_type": "code",
   "execution_count": 309,
   "metadata": {},
   "outputs": [],
   "source": [
    "from sympy import *"
   ]
  },
  {
   "cell_type": "code",
   "execution_count": 310,
   "metadata": {},
   "outputs": [],
   "source": [
    "dx, dy, eta = symbols('dx, dy, eta')"
   ]
  },
  {
   "cell_type": "code",
   "execution_count": 311,
   "metadata": {},
   "outputs": [],
   "source": [
    "D11, D22, D33, D12, D13, D23 = symbols('D11, D22, D33, D12, D13, D23')\n",
    "D = Matrix([[D11, D12, D13], [D12, D22, D23], [D13, D23, D33]])\n",
    "# D = Matrix([[2*eta, 0, 0], [0, 2*eta, 0], [0, 0, 2*eta]])"
   ]
  },
  {
   "cell_type": "code",
   "execution_count": 312,
   "metadata": {},
   "outputs": [
    {
     "name": "stdout",
     "output_type": "stream",
     "text": [
      "Matrix([[-D13/(2*dx*dy) + (-2*D13/(3*dx) + D23/(3*dx))/dy]])\n",
      "Matrix([[D13/(2*dx*dy) + (2*D13/(3*dx) - D23/(3*dx))/dy]])\n",
      "Matrix([[-D13/(2*dx*dy) + (-2*D13/(3*dx) + D23/(3*dx))/dy]])\n",
      "Matrix([[D13/(2*dx*dy) + (2*D13/(3*dx) - D23/(3*dx))/dy]])\n"
     ]
    }
   ],
   "source": [
    "uS_1 = symbols('uS_1') \n",
    "uW_1,  uC_1, uE_1  = symbols('uW_1,  uC_1, uE_1 ') \n",
    "uN_1 = symbols('uN_1')\n",
    "vS_1 = symbols('vS_1') \n",
    "vW_1,  vC_1, vE_1  = symbols('vW_1,  vC_1, vE_1 ') \n",
    "vN_1 = symbols('vN_1')\n",
    "vSW_2, vSE_2 = symbols('vSW_2, vSE_2')\n",
    "vNW_2, vNE_2 = symbols('vNW_2, vNE_2')\n",
    "uSW_2, uSE_2 = symbols('uSW_2, uSE_2')\n",
    "uNW_2, uNE_2 = symbols('uNW_2, uNE_2')\n",
    "etaW, etaE   = symbols('etaW, etaE')\n",
    "etaS, etaN   = symbols('etaS, etaN')\n",
    "eta = symbols('eta')\n",
    "O   = symbols('O')\n",
    "\n",
    "u_1 = Matrix([[ O,   uW_1,     O],\n",
    "              [uS_1, uC_1,    uN_1], \n",
    "              [ O,   uE_1,     O] ])\n",
    "v_2 = Matrix([[vSW_2,  vNW_2],\n",
    "              [vSE_2,  vNE_2]]) \n",
    "v_1 = Matrix([[ O,   vW_1,     O],\n",
    "              [vS_1, vC_1,    vN_1], \n",
    "              [ O,   vE_1,     O] ])\n",
    "u_2 = Matrix([[uSW_2,  uNW_2],\n",
    "              [uSE_2,  uNE_2]]) \n",
    "# eta_c = Matrix([[etaW], [etaE]])\n",
    "# eta_v = Matrix([[etaS, etaN]])\n",
    "eta_c = Matrix([[eta], [eta]])\n",
    "eta_v = Matrix([[eta, eta]])\n",
    "\n",
    "dudx_1 = (u_1[1:,:] - u_1[:-1,:])/dx\n",
    "dvdy_2 = (v_2[:,1:] - v_2[:,:-1])/dy\n",
    "dvdx_2 = (v_2[1:,:] - v_2[:-1,:])/dx\n",
    "dudy_1 = (u_1[:,1:] - u_1[:,:-1])/dy \n",
    "\n",
    "dvdx_1 = (v_1[1:,:] - v_1[:-1,:])/dx\n",
    "dudy_2 = (u_2[:,1:] - u_2[:,:-1])/dy\n",
    "dudx_2 = (u_2[1:,:] - u_2[:-1,:])/dx\n",
    "dvdy_1 = (v_1[:,1:] - v_1[:,:-1])/dy \n",
    "\n",
    "divV_1 = dudx_1[:,1:-1] + dvdy_2\n",
    "exx_c  = dudx_1[:,1:-1] - Rational(1,3) * divV_1\n",
    "eyy_c  = dvdy_2         - Rational(1,3) * divV_1\n",
    "exy_v  = Rational(1,2) * (dudy_1[1:-1,:] + dvdx_2)\n",
    "\n",
    "divV_2 = dudx_2         + dvdy_1[1:-1,:]\n",
    "exx_v  = dudx_2         - Rational(1,3) * divV_2\n",
    "eyy_v  = dvdy_1[1:-1,:] - Rational(1,3) * divV_2\n",
    "exy_c  = Rational(1,2) * (dudy_2 + dvdx_1[:,1:-1])\n",
    "\n",
    "Txx  = D[0,0]*exx_c + D[0,1]*eyy_c + D[0,2]*exy_c\n",
    "Txy  = D[2,0]*exx_v + D[2,1]*eyy_v + D[2,2]*exy_v\n",
    "# # Txx  = 2*HadamardProduct(eta_c, exx[:,1:-1])\n",
    "# # Txy  = 2*HadamardProduct(eta_v, exy[1:-1,:])\n",
    "fx1 = (Txx[1:,:] - Txx[:-1,:])/dx + (Txy[:,1:] - Txy[:,:-1])/dy\n",
    "\n",
    "Tyy  = D[1,0]*exx_v + D[1,1]*eyy_v + D[1,2]*exy_v\n",
    "Txy  = D[2,0]*exx_c + D[2,1]*eyy_c + D[2,2]*exy_c\n",
    "fy1 = (Tyy[:,1:] - Tyy[:,:-1])/dy + (Txy[1:,:] - Txy[:-1,:])/dx\n",
    "\n",
    "# Dx = fx.diff(uC_1)[0]\n",
    "# print(\"Dx = \" + julia_code(Dx))\n",
    "# Gx = 0\n",
    "# for i in range(len(u_1)):\n",
    "#     Gx += abs(fx.diff(u_1[i])[0])\n",
    "# for i in range(len(v_1)):\n",
    "#     Gx += abs(fx.diff(v_1[i])[0])\n",
    "# print(\"Gx = \" + julia_code(simplify(Gx)) )\n",
    "print(fx1.diff(uSE_2))\n",
    "print(fx1.diff(uSW_2))\n",
    "print(fx1.diff(uNW_2))\n",
    "print(fx1.diff(uNE_2))\n"
   ]
  },
  {
   "cell_type": "code",
   "execution_count": 313,
   "metadata": {},
   "outputs": [],
   "source": [
    "vS_2 = symbols('vS_2') \n",
    "vW_2,  vC_2, vE_2  = symbols('vW_2,  vC_2, vE_2 ') \n",
    "vN_2 = symbols('vN_2')\n",
    "uS_2 = symbols('uS_2') \n",
    "uW_2,  uC_2, uE_2  = symbols('uS_2,  uC_2, uE_2 ') \n",
    "uN_2 = symbols('uN_2')\n",
    "uSW_1, uSE_1     = symbols('uSW_1, uSE_1')\n",
    "uNW_1, uNE_1     = symbols('uNW_1, uNE_1')\n",
    "vSW_2, vSE_2     = symbols('vSW_2, vSE_2')\n",
    "vNW_2, vNE_2     = symbols('vNW_2, vNE_2')\n",
    "etaW, etaE   = symbols('etaW, etaE')\n",
    "etaS, etaN   = symbols('etaS, etaN')\n",
    "\n",
    "v_2 = Matrix([[ 0,   vW_2,    0],\n",
    "              [vS_2, vC_2, vN_2], \n",
    "              [ 0,   vE_2,    0] ])\n",
    "u_2 = Matrix([[ 0,   uW_2,    0],\n",
    "              [uS_2, uC_2, uN_2], \n",
    "              [ 0,   uE_2,    0] ])\n",
    "u_1 = Matrix([[uSW_1,  uNW_1],\n",
    "              [uSE_1,  uNE_1]])\n",
    "v_1 = Matrix([[vSW_1,  vNW_1],\n",
    "              [vSE_1,  vNE_1]])\n",
    "# eta_c = Matrix([[eta, eta]])\n",
    "# eta_v = Matrix([[eta], [eta]]) \n",
    "\n",
    "dudx_2 = (u_2[1:,:] - u_2[:-1,:])/dx\n",
    "dvdy_1 = (v_1[:,1:] - v_1[:,:-1])/dy\n",
    "dvdx_1 = (v_1[1:,:] - v_1[:-1,:])/dx\n",
    "dudy_2 = (u_2[:,1:] - u_2[:,:-1])/dy \n",
    "\n",
    "dudx_1 = (u_1[1:,:] - u_1[:-1,:])/dx\n",
    "dvdy_2 = (v_2[:,1:] - v_2[:,:-1])/dy\n",
    "dvdx_2 = (v_2[1:,:] - v_2[:-1,:])/dx\n",
    "dudy_1 = (u_1[:,1:] - u_1[:,:-1])/dy \n",
    "\n",
    "divV_2 = dudx_1 + dvdy_2[1:-1,:]\n",
    "exx_c  = dudx_1         - Rational(1,3) * divV_2\n",
    "eyy_c  = dvdy_2[1:-1,:] - Rational(1,3) * divV_2\n",
    "exy_v  = Rational(1,2) * (dudy_1 + dvdx_2[:,1:-1])\n",
    "\n",
    "divV_1 = dudx_2[:,1:-1] + dvdy_1\n",
    "exx_v  = dudx_2[:,1:-1] - Rational(1,3) * divV_1\n",
    "eyy_v  = dvdy_1         - Rational(1,3) * divV_1\n",
    "exy_c  = Rational(1,2) * (dudy_2[1:-1,:] + dvdx_1)\n",
    "\n",
    "Txx  = D[0,0]*exx_v + D[0,1]*eyy_v + D[0,2]*exy_v\n",
    "Txy  = D[2,0]*exx_c + D[2,1]*eyy_c + D[2,2]*exy_c\n",
    "# Tyy  = 2*HadamardProduct(eta_c, eyy[1:-1,:])\n",
    "# Txy  = 2*HadamardProduct(eta_v, exy[:,1:-1])\n",
    "fx2 = (Txx[1:,:] - Txx[:-1,:])/dx + (Txy[:,1:] - Txy[:,:-1])/dy\n",
    "\n",
    "Tyy  = D[1,0]*exx_c + D[1,1]*eyy_c + D[1,2]*exy_c\n",
    "Txy  = D[2,0]*exx_v + D[2,1]*eyy_v + D[2,2]*exy_v\n",
    "# Tyy  = 2*HadamardProduct(eta_c, eyy[1:-1,:])\n",
    "# Txy  = 2*HadamardProduct(eta_v, exy[:,1:-1])\n",
    "fy2 = (Tyy[:,1:] - Tyy[:,:-1])/dy + (Txy[1:,:] - Txy[:-1,:])/dx\n",
    "# print(\"Dy = \" + julia_code(fy.diff(vC)[0]))\n"
   ]
  },
  {
   "cell_type": "markdown",
   "metadata": {},
   "source": [
    "### Test symmetry Vx_1 versus Vx_1"
   ]
  },
  {
   "cell_type": "code",
   "execution_count": 326,
   "metadata": {},
   "outputs": [
    {
     "data": {
      "text/latex": [
       "$\\displaystyle 0$"
      ],
      "text/plain": [
       "0"
      ]
     },
     "execution_count": 326,
     "metadata": {},
     "output_type": "execute_result"
    }
   ],
   "source": [
    "(fx1.diff(vS_1) - fx1.diff(vN_1))[0].simplify()"
   ]
  },
  {
   "cell_type": "code",
   "execution_count": 327,
   "metadata": {},
   "outputs": [
    {
     "data": {
      "text/latex": [
       "$\\displaystyle 0$"
      ],
      "text/plain": [
       "0"
      ]
     },
     "execution_count": 327,
     "metadata": {},
     "output_type": "execute_result"
    }
   ],
   "source": [
    "(fx1.diff(vW_1) - fx1.diff(vE_1))[0].simplify()"
   ]
  },
  {
   "cell_type": "code",
   "execution_count": 328,
   "metadata": {},
   "outputs": [
    {
     "data": {
      "text/latex": [
       "$\\displaystyle 0$"
      ],
      "text/plain": [
       "0"
      ]
     },
     "execution_count": 328,
     "metadata": {},
     "output_type": "execute_result"
    }
   ],
   "source": [
    "(fx1.diff(vE_1) - fx1.diff(vW_1))[0].simplify()"
   ]
  },
  {
   "cell_type": "code",
   "execution_count": 329,
   "metadata": {},
   "outputs": [
    {
     "data": {
      "text/latex": [
       "$\\displaystyle 0$"
      ],
      "text/plain": [
       "0"
      ]
     },
     "execution_count": 329,
     "metadata": {},
     "output_type": "execute_result"
    }
   ],
   "source": [
    "(fx1.diff(vN_1) - fx1.diff(vS_1))[0].simplify()"
   ]
  },
  {
   "cell_type": "markdown",
   "metadata": {},
   "source": [
    "### Test symmetry Vx_1 versus Vy_1"
   ]
  },
  {
   "cell_type": "code",
   "execution_count": 314,
   "metadata": {},
   "outputs": [
    {
     "data": {
      "text/latex": [
       "$\\displaystyle \\frac{- 2 D_{13} + D_{23}}{6 dy^{2}}$"
      ],
      "text/plain": [
       "(-2*D13 + D23)/(6*dy**2)"
      ]
     },
     "execution_count": 314,
     "metadata": {},
     "output_type": "execute_result"
    }
   ],
   "source": [
    "(fx1.diff(vS_1) - fy1.diff(uN_1))[0].simplify()"
   ]
  },
  {
   "cell_type": "code",
   "execution_count": 315,
   "metadata": {},
   "outputs": [
    {
     "data": {
      "text/latex": [
       "$\\displaystyle \\frac{- D_{13} + 2 D_{23}}{6 dx^{2}}$"
      ],
      "text/plain": [
       "(-D13 + 2*D23)/(6*dx**2)"
      ]
     },
     "execution_count": 315,
     "metadata": {},
     "output_type": "execute_result"
    }
   ],
   "source": [
    "(fx1.diff(vW_1) - fy1.diff(uE_1))[0].simplify()"
   ]
  },
  {
   "cell_type": "code",
   "execution_count": 316,
   "metadata": {},
   "outputs": [
    {
     "data": {
      "text/latex": [
       "$\\displaystyle \\frac{- D_{13} + 2 D_{23}}{6 dx^{2}}$"
      ],
      "text/plain": [
       "(-D13 + 2*D23)/(6*dx**2)"
      ]
     },
     "execution_count": 316,
     "metadata": {},
     "output_type": "execute_result"
    }
   ],
   "source": [
    "(fx1.diff(vE_1) - fy1.diff(uW_1))[0].simplify()"
   ]
  },
  {
   "cell_type": "code",
   "execution_count": 317,
   "metadata": {},
   "outputs": [
    {
     "data": {
      "text/latex": [
       "$\\displaystyle \\frac{- 2 D_{13} + D_{23}}{6 dy^{2}}$"
      ],
      "text/plain": [
       "(-2*D13 + D23)/(6*dy**2)"
      ]
     },
     "execution_count": 317,
     "metadata": {},
     "output_type": "execute_result"
    }
   ],
   "source": [
    "(fx1.diff(vN_1) - fy1.diff(uS_1))[0].simplify()"
   ]
  },
  {
   "cell_type": "markdown",
   "metadata": {},
   "source": [
    "### Test symmetry Vx_1 versus Vy_2"
   ]
  },
  {
   "cell_type": "code",
   "execution_count": 318,
   "metadata": {},
   "outputs": [
    {
     "data": {
      "text/latex": [
       "$\\displaystyle \\frac{D_{11} - D_{22}}{3 dx dy}$"
      ],
      "text/plain": [
       "(D11 - D22)/(3*dx*dy)"
      ]
     },
     "execution_count": 318,
     "metadata": {},
     "output_type": "execute_result"
    }
   ],
   "source": [
    "(fx1.diff(vNW_2) - fy2.diff(uSE_1))[0].simplify()"
   ]
  },
  {
   "cell_type": "code",
   "execution_count": 319,
   "metadata": {},
   "outputs": [
    {
     "data": {
      "text/latex": [
       "$\\displaystyle \\frac{- D_{11} + D_{22}}{3 dx dy}$"
      ],
      "text/plain": [
       "(-D11 + D22)/(3*dx*dy)"
      ]
     },
     "execution_count": 319,
     "metadata": {},
     "output_type": "execute_result"
    }
   ],
   "source": [
    "(fx1.diff(vNE_2) - fy2.diff(uSW_1))[0].simplify()"
   ]
  },
  {
   "cell_type": "code",
   "execution_count": 320,
   "metadata": {},
   "outputs": [
    {
     "data": {
      "text/latex": [
       "$\\displaystyle \\frac{- D_{11} + D_{22}}{3 dx dy}$"
      ],
      "text/plain": [
       "(-D11 + D22)/(3*dx*dy)"
      ]
     },
     "execution_count": 320,
     "metadata": {},
     "output_type": "execute_result"
    }
   ],
   "source": [
    "(fx1.diff(vSW_2) - fy2.diff(uNE_1))[0].simplify()"
   ]
  },
  {
   "cell_type": "code",
   "execution_count": 321,
   "metadata": {},
   "outputs": [
    {
     "data": {
      "text/latex": [
       "$\\displaystyle \\frac{D_{11} - D_{22}}{3 dx dy}$"
      ],
      "text/plain": [
       "(D11 - D22)/(3*dx*dy)"
      ]
     },
     "execution_count": 321,
     "metadata": {},
     "output_type": "execute_result"
    }
   ],
   "source": [
    "(fx1.diff(vSE_2) - fy2.diff(uNW_1))[0].simplify()"
   ]
  },
  {
   "cell_type": "markdown",
   "metadata": {},
   "source": [
    "### Test symmetry Vx_1 versus Vx_2"
   ]
  },
  {
   "cell_type": "code",
   "execution_count": 322,
   "metadata": {},
   "outputs": [
    {
     "data": {
      "text/latex": [
       "$\\displaystyle 0$"
      ],
      "text/plain": [
       "0"
      ]
     },
     "execution_count": 322,
     "metadata": {},
     "output_type": "execute_result"
    }
   ],
   "source": [
    "(fx1.diff(uSW_2) - fx2.diff(uNE_1))[0].simplify()"
   ]
  },
  {
   "cell_type": "code",
   "execution_count": 323,
   "metadata": {},
   "outputs": [
    {
     "data": {
      "text/latex": [
       "$\\displaystyle 0$"
      ],
      "text/plain": [
       "0"
      ]
     },
     "execution_count": 323,
     "metadata": {},
     "output_type": "execute_result"
    }
   ],
   "source": [
    "(fx1.diff(uSE_2) - fx2.diff(uNW_1))[0].simplify()"
   ]
  },
  {
   "cell_type": "code",
   "execution_count": 324,
   "metadata": {},
   "outputs": [
    {
     "data": {
      "text/latex": [
       "$\\displaystyle 0$"
      ],
      "text/plain": [
       "0"
      ]
     },
     "execution_count": 324,
     "metadata": {},
     "output_type": "execute_result"
    }
   ],
   "source": [
    "(fx1.diff(uNW_2) - fx2.diff(uSE_1))[0].simplify()"
   ]
  },
  {
   "cell_type": "code",
   "execution_count": 325,
   "metadata": {},
   "outputs": [
    {
     "data": {
      "text/latex": [
       "$\\displaystyle 0$"
      ],
      "text/plain": [
       "0"
      ]
     },
     "execution_count": 325,
     "metadata": {},
     "output_type": "execute_result"
    }
   ],
   "source": [
    "(fx1.diff(uNE_2) - fx2.diff(uSW_1))[0].simplify()"
   ]
  }
 ],
 "metadata": {
  "kernelspec": {
   "display_name": "Python 3",
   "language": "python",
   "name": "python3"
  },
  "language_info": {
   "codemirror_mode": {
    "name": "ipython",
    "version": 3
   },
   "file_extension": ".py",
   "mimetype": "text/x-python",
   "name": "python",
   "nbconvert_exporter": "python",
   "pygments_lexer": "ipython3",
   "version": "3.9.6"
  }
 },
 "nbformat": 4,
 "nbformat_minor": 2
}
