{
 "cells": [
  {
   "cell_type": "code",
   "execution_count": 92,
   "metadata": {},
   "outputs": [],
   "source": [
    "from sympy import *\n",
    "k_iso, theta, delta =  symbols(\"k_iso, theta, delta\")\n",
    "Ex, Ey =  symbols(\"Ex, Ey\")"
   ]
  },
  {
   "cell_type": "code",
   "execution_count": 93,
   "metadata": {},
   "outputs": [],
   "source": [
    "Q      = Matrix([[cos(theta), sin(theta)],[-sin(theta), cos(theta)]]) \n",
    "E_cart = Matrix([[Ex],[Ey]]) "
   ]
  },
  {
   "cell_type": "code",
   "execution_count": 94,
   "metadata": {},
   "outputs": [
    {
     "data": {
      "text/latex": [
       "$\\displaystyle \\left[\\begin{matrix}Ex \\cos{\\left(\\theta \\right)} + Ey \\sin{\\left(\\theta \\right)}\\\\- Ex \\sin{\\left(\\theta \\right)} + Ey \\cos{\\left(\\theta \\right)}\\end{matrix}\\right]$"
      ],
      "text/plain": [
       "Matrix([\n",
       "[ Ex*cos(theta) + Ey*sin(theta)],\n",
       "[-Ex*sin(theta) + Ey*cos(theta)]])"
      ]
     },
     "execution_count": 94,
     "metadata": {},
     "output_type": "execute_result"
    }
   ],
   "source": [
    "# Transform E to material coordinates\n",
    "E_rot  = Q*E_cart\n",
    "E_rot"
   ]
  },
  {
   "cell_type": "code",
   "execution_count": 95,
   "metadata": {},
   "outputs": [
    {
     "data": {
      "text/latex": [
       "$\\displaystyle \\left[\\begin{matrix}- k_{iso} \\left(Ex \\cos{\\left(\\theta \\right)} + Ey \\sin{\\left(\\theta \\right)}\\right)\\\\- \\frac{k_{iso} \\left(- Ex \\sin{\\left(\\theta \\right)} + Ey \\cos{\\left(\\theta \\right)}\\right)}{\\delta}\\end{matrix}\\right]$"
      ],
      "text/plain": [
       "Matrix([\n",
       "[       -k_iso*(Ex*cos(theta) + Ey*sin(theta))],\n",
       "[-k_iso*(-Ex*sin(theta) + Ey*cos(theta))/delta]])"
      ]
     },
     "execution_count": 95,
     "metadata": {},
     "output_type": "execute_result"
    }
   ],
   "source": [
    "# Flux in material coordinates (transverse)\n",
    "K     = Matrix([[k_iso, 0],[0, k_iso/delta]])\n",
    "q_rot = -K *E_rot\n",
    "q_rot"
   ]
  },
  {
   "cell_type": "code",
   "execution_count": 96,
   "metadata": {},
   "outputs": [
    {
     "data": {
      "text/latex": [
       "$\\displaystyle \\left[\\begin{matrix}- k_{iso} \\left(Ex \\cos{\\left(\\theta \\right)} + Ey \\sin{\\left(\\theta \\right)}\\right) \\cos{\\left(\\theta \\right)} + \\frac{k_{iso} \\left(- Ex \\sin{\\left(\\theta \\right)} + Ey \\cos{\\left(\\theta \\right)}\\right) \\sin{\\left(\\theta \\right)}}{\\delta}\\\\- k_{iso} \\left(Ex \\cos{\\left(\\theta \\right)} + Ey \\sin{\\left(\\theta \\right)}\\right) \\sin{\\left(\\theta \\right)} - \\frac{k_{iso} \\left(- Ex \\sin{\\left(\\theta \\right)} + Ey \\cos{\\left(\\theta \\right)}\\right) \\cos{\\left(\\theta \\right)}}{\\delta}\\end{matrix}\\right]$"
      ],
      "text/plain": [
       "Matrix([\n",
       "[-k_iso*(Ex*cos(theta) + Ey*sin(theta))*cos(theta) + k_iso*(-Ex*sin(theta) + Ey*cos(theta))*sin(theta)/delta],\n",
       "[-k_iso*(Ex*cos(theta) + Ey*sin(theta))*sin(theta) - k_iso*(-Ex*sin(theta) + Ey*cos(theta))*cos(theta)/delta]])"
      ]
     },
     "execution_count": 96,
     "metadata": {},
     "output_type": "execute_result"
    }
   ],
   "source": [
    "# Transform back to Cartesian\n",
    "q_cart = Q.transpose() * q_rot\n",
    "q_cart"
   ]
  },
  {
   "cell_type": "code",
   "execution_count": 97,
   "metadata": {},
   "outputs": [
    {
     "name": "stdout",
     "output_type": "stream",
     "text": [
      "k_iso .* cos(theta) .^ 2 + k_iso .* sin(theta) .^ 2 ./ delta\n",
      "k_iso .* sin(theta) .* cos(theta) - k_iso .* sin(theta) .* cos(theta) ./ delta\n",
      "k_iso .* sin(theta) .* cos(theta) - k_iso .* sin(theta) .* cos(theta) ./ delta\n",
      "k_iso .* sin(theta) .^ 2 + k_iso .* cos(theta) .^ 2 ./ delta\n"
     ]
    }
   ],
   "source": [
    "# Cartesian conductivity tensor\n",
    "kxx = -q_cart[0].diff(Ex)\n",
    "kxy = -q_cart[0].diff(Ey)\n",
    "kyx = -q_cart[1].diff(Ex)\n",
    "kyy = -q_cart[1].diff(Ey)\n",
    "print(julia_code(kxx))\n",
    "print(julia_code(kxy))\n",
    "print(julia_code(kyx))\n",
    "print(julia_code(kyy))"
   ]
  },
  {
   "cell_type": "code",
   "execution_count": 98,
   "metadata": {},
   "outputs": [],
   "source": [
    "def stencil(kxxW, kxyW, kxxE, kxyE,   kyyS, kyxS, kyyN, kyxN,     kxySW, kxySE, kxyNW, kxyNE, kxxSW, kxxSE, kxxNW, kxxNE, kyySW, kyySE, kyyNW, kyyNE,     dxdXN, dxdXS, dydXW, dydXE, dxdΥN, dxdΥS, dydΥW, dydΥE,    dxdXSW, dxdXSE, dxdXNW, dxdXNE, dydXSW, dydXSE, dydXNW, dydXNE, dxdYSW, dxdYSE, dxdYNW, dxdYNE, dydYSW, dydYSE, dydYNW, dydYNE ):\n",
    "    uSW, uS, uSE, uW, uC, uE, uNW, uN, uNE = symbols('uSW, uS, uSE, uW, uC, uE, uNW, uN, uNE')\n",
    "\n",
    "    dx, dy = symbols('dx,dy')\n",
    "\n",
    "    dy = dx\n",
    "\n",
    "    ExSW = (uS-uSW)/dx \n",
    "    ExW  = (uC-uW)/dx \n",
    "    ExNW = (uN-uNW)/dx \n",
    "    ExSE = (uSE-uS)/dx \n",
    "    ExE  = (uE-uC)/dx \n",
    "    ExNE = (uNE-uN)/dx \n",
    "\n",
    "    EySW = (uW-uSW)/dy \n",
    "    EyS  = (uC-uS)/dy \n",
    "    EyNW = (uNW-uW)/dy \n",
    "    EySE = (uE-uSE)/dy \n",
    "    EyN  = (uN-uC)/dy \n",
    "    EyNE = (uNE-uE)/dy\n",
    "\n",
    "    # ExS = Rational(1,4)*(ExW + ExE + ExSW + ExSE)\n",
    "    # ExN = Rational(1,4)*(ExW + ExE + ExNW + ExNE)\n",
    "    # EyW = Rational(1,4)*(EyS + EyN + EySW + EyNW)\n",
    "    # EyE = Rational(1,4)*(EyS + EyN + EySE + EyNE)\n",
    "    \n",
    "    # qxW = -kxxW*ExW -kxyW*EyW\n",
    "    # qxE = -kxxE*ExE -kxyE*EyE\n",
    "    # qyS = -kyyS*EyS -kyxS*ExS\n",
    "    # qyN = -kyyN*EyN -kyxN*ExN\n",
    "\n",
    "    # kxyS = kyxS\n",
    "    # kxyN = kyxN\n",
    "    # qxW = -kxxW*ExW - 0*Rational(1,4)*(kxyS*EyS  + kxyN*EyN + kxySW*EySW + kxyNW*EyN)\n",
    "    # qxE = -kxxE*ExE - 0*Rational(1,4)*(kxyS*EyS  + kxyN*EyN + kxySE*EySE + kxyNE*EyN)\n",
    "    # qyS = -kyyS*EyS - 0*Rational(1,4)*(kxyW*ExW  + kxyE*ExE + kxySW*ExSW + kxySE*ExS)\n",
    "    # qyN = -kyyN*EyN - 0*Rational(1,4)*(kxyW*ExW  + kxyE*ExE + kxyNW*ExNW + kxyNE*ExN)\n",
    "\n",
    "    DxNE = 1/2*(  (uNE+uE) - (uN+uC)) / dx\n",
    "    DyNE = 1/2*(  (uNE+uN) - (uE+uC)) / dy\n",
    "    DxNW = 1/2*( -(uNW+uW) + (uN+uC)) / dx\n",
    "    DyNW = 1/2*(  (uNW+uN) - (uW+uC)) / dy\n",
    "    DxSE = 1/2*(  (uSE+uE) - (uS+uC)) / dx\n",
    "    DySE = 1/2*( -(uSE+uS) + (uE+uC)) / dy\n",
    "    DxSW = 1/2*( -(uSW+uW) + (uS+uC)) / dx\n",
    "    DySW = 1/2*( -(uSW+uS) + (uW+uC)) / dy\n",
    "\n",
    "    qxSW = - kxxSW*DxSW - 0*kxySW*DySW\n",
    "    qxSE = - kxxSE*DxSE - 0*kxySE*DySE\n",
    "    qxNW = - kxxNW*DxNW - 0*kxyNW*DyNW\n",
    "    qxNE = - kxxNE*DxNE - 0*kxyNE*DyNE\n",
    "\n",
    "    qySW = - 0*kxySW*DxSW - kyySW*DySW\n",
    "    qySE = - 0*kxySE*DxSE - kyySE*DySE\n",
    "    qyNW = - 0*kxyNW*DxNW - kyyNW*DyNW\n",
    "    qyNE = - 0*kxyNE*DxNE - kyyNE*DyNE\n",
    "\n",
    "    dqxdxN = (qxNE - qxNW) / dx * dxdXN \n",
    "    dqxdxS = (qxSE - qxSW) / dx * dxdXS\n",
    "    dqxdyW = (qxNW - qxSW) / dy * dydXW\n",
    "    dqxdyE = (qxNE - qxSE) / dy * dydXE\n",
    "\n",
    "    dqydxN = (qyNE - qyNW) / dx * dxdΥN\n",
    "    dqydxS = (qySE - qySW) / dx * dxdΥS\n",
    "    dqydyW = (qyNW - qySW) / dy * dydΥW\n",
    "    dqydyE = (qyNE - qySE) / dy * dydΥE\n",
    "\n",
    "    # dqxdxN = (qxNE - qxNW) / dx * 1/2*(dxdXNE+dxdXNW)\n",
    "    # dqxdxS = (qxSE - qxSW) / dx * 1/2*(dxdXSE+dxdXSW)\n",
    "    # dqxdyW = (qxNW - qxSW) / dy * 1/2*(dydXNW+dydXSW)\n",
    "    # dqxdyE = (qxNE - qxSE) / dy * 1/2*(dydXNE+dydXSE)\n",
    "\n",
    "    # dqydxN = (qyNE - qyNW) / dx * 1/2*(dxdYNE+dxdYNW)\n",
    "    # dqydxS = (qySE - qySW) / dx * 1/2*(dxdYSE+dxdYSW)\n",
    "    # dqydyW = (qyNW - qySW) / dy * 1/2*(dydYNW+dydYSW)\n",
    "    # dqydyE = (qyNE - qySE) / dy * 1/2*(dydYNE+dydYSE)\n",
    "\n",
    "    f  = -(dqxdxN + dqxdxS)/2 \n",
    "    f += -(dqxdyW + dqxdyE)/2 \n",
    "    f += -(dqydxN + dqydxS)/2 \n",
    "    f += -(dqydyW + dqydyE)/2 \n",
    "\n",
    "    # qxW = -1/2*( kxxSW*DxSW + kxxNW*DxNW + kxySW*DySW + kxyNW*DyNW )\n",
    "    # qxE = -1/2*( kxxSE*DxSE + kxxNE*DxNE + kxySE*DySE + kxyNE*DyNE )\n",
    "    # qyS = -1/2*( kxySW*DxSW + kxySE*DxSE + kyySW*DySW + kyySE*DySE )\n",
    "    # qyN = -1/2*( kxyNW*DxNW + kxyNE*DxNE + kyyNW*DyNW + kyyNE*DyNE )\n",
    "\n",
    "    # f  = -(qxSE + qxNE - qxSW - qxNW)/2/dx * dxdX\n",
    "    # f += -(qxNE + qxNW - qxSW - qxSE)/2/dy * dydX\n",
    "    # f += -(qySE + qyNE - qySW - qyNW)/2/dx * dxdY\n",
    "    # f += -(qyNE + qyNW - qySW - qySE)/2/dy * dydY\n",
    "\n",
    "    # dxdXSW,dxdXSE,dxdXNW,dxdXNE = symbols('dxdXSW,dxdXSE,dxdXNW,dxdXNE')\n",
    "    # dydXSW,dydXSE,dydXNW,dydXNE = symbols('dydXSW,dydXSE,dydXNW,dydXNE')\n",
    "    # dxdYSW,dxdYSE,dxdYNW,dxdYNE = symbols('dxdYSW,dxdYSE,dxdYNW,dxdYNE')\n",
    "    # dydYSW,dydYSE,dydYNW,dydYNE = symbols('dydYSW,dydYSE,dydYNW,dydYNE')\n",
    "    # dxdX, dydX, dxdY, dydY = symbols('dxdX, dydX, dxdY, dydY')\n",
    "\n",
    "    f  = -(qxSE + qxNE - qxSW - qxNW)/2/dx * 1/4*(dxdXSW+dxdXSE+dxdXNW+dxdXNE)\n",
    "    f += -(qxNE + qxNW - qxSW - qxSE)/2/dy * 1/4*(dydXSW+dydXSE+dydXNW+dydXNE)\n",
    "    f += -(qySE + qyNE - qySW - qyNW)/2/dx * 1/4*(dxdYSW+dxdYSE+dxdYNW+dxdYNE)\n",
    "    f += -(qyNE + qyNW - qySW - qySE)/2/dy * 1/4*(dydYSW+dydYSE+dydYNW+dydYNE)\n",
    "    \n",
    "    return  f # -(qxE - qxW)/dx -(qyN - qyS)/dy "
   ]
  },
  {
   "cell_type": "code",
   "execution_count": 99,
   "metadata": {},
   "outputs": [],
   "source": [
    "kxxW, kxyW, kxxE, kxyE = symbols('kxxW, kxyW, kxxE, kxyE')\n",
    "kyyS, kyyN, kyxS, kyxN = symbols('kyyS, kyyN, kyxS, kyxN')\n",
    "kxx1, kxy1, kyx1, kyy1 = symbols('kxx1, kxy1 kyx1, kyy1')\n",
    "kxx2, kxy2, kyx2, kyy2 = symbols('kxx2, kxy2, kyx2, kyy2')\n",
    "\n",
    "dxdXN, dxdXS, dydXW, dydXE, dxdΥN, dxdΥS, dydΥW, dydΥE = symbols('dxdXN, dxdXS, dydXW, dydXE, dxdΥN, dxdΥS, dydΥW, dydΥE')\n",
    "dxdXSW, dxdXSE, dxdXNW, dxdXNE, dydXSW, dydXSE, dydXNW, dydXNE, dxdYSW, dxdYSE, dxdYNW, dxdYNE, dydYSW, dydYSE, dydYNW, dydYNE = symbols('dxdXSW, dxdXSE, dxdXNW, dxdXNE, dydXSW, dydXSE, dydXNW, dydXNE, dxdYSW, dxdYSE, dxdYNW, dxdYNE, dydYSW, dydYSE, dydYNW, dydYNE')\n",
    "\n",
    "kxySW, kxySE, kxyNW, kxyNE = symbols('kxySW, kxySE, kxyNW, kxyNE')\n",
    "kxxSW, kxxSE, kxxNW, kxxNE = symbols('kxxSW, kxxSE, kxxNW, kxxNE')\n",
    "kyySW, kyySE, kyyNW, kyyNE = symbols('kyySW, kyySE, kyyNW, kyyNE')\n",
    "uSW, uS, uSE, uW, uC, uE, uNW, uN, uNE = symbols('uSW, uS, uSE, uW, uC, uE, uNW, uN, uNE')\n"
   ]
  },
  {
   "cell_type": "code",
   "execution_count": 100,
   "metadata": {},
   "outputs": [],
   "source": [
    "# dxdXN = 1\n",
    "# dxdXS = 1 \n",
    "# dydXW = 0 \n",
    "# dydXE = 0 \n",
    "# dxdΥN = 0\n",
    "# dxdΥS = 0 \n",
    "# dydΥW = 1 \n",
    "# dydΥE = 1"
   ]
  },
  {
   "cell_type": "code",
   "execution_count": 101,
   "metadata": {},
   "outputs": [
    {
     "data": {
      "text/latex": [
       "$\\displaystyle \\frac{0.125 \\left(kxx_{1} \\left(dxdXNE + dxdXNW + 4\\right) - kxx_{1} \\left(dxdXSE + dxdXSW + 4\\right) - kyy_{1} \\left(dydYNE + dydYNW + 4\\right) + kyy_{1} \\left(dydYSE + dydYSW + 4\\right)\\right)}{dx^{2}}$"
      ],
      "text/plain": [
       "0.125*(kxx1*(dxdXNE + dxdXNW + 4) - kxx1*(dxdXSE + dxdXSW + 4) - kyy1*(dydYNE + dydYNW + 4) + kyy1*(dydYSE + dydYSW + 4))/dx**2"
      ]
     },
     "execution_count": 101,
     "metadata": {},
     "output_type": "execute_result"
    }
   ],
   "source": [
    "\n",
    "# N/S\n",
    "nodeN = stencil(kxxW, kxyW, kxxE, kxyE,  kyyS, kyxS, kyyN, kyxN,       kxy1, kxy1, kxy2, kxy2, kxx1, kxx1, kxx2, kxx2, kyy1, kyy1, kyy2, kyy2,  dxdXN, 3, dydXW, dydXE, dxdΥN, 2, dydΥW, dydΥE,         2,      2, dxdXNW, dxdXNE,      2,      2, dydXNW, dydXNE,      2,      2, dxdYNW, dxdYNE,      2,      2, dydYNW, dydYNE)\n",
    "nodeS = stencil(kxxW, kxyW, kxxE, kxyE,  kyyS, kyxS, kyyN, kyxN,       kxy2, kxy2, kxy1, kxy1, kxx2, kxx2, kxx1, kxx1, kyy2, kyy2, kyy1, kyy1,  3, dxdXS, dydXW, dydXE, 2, dxdΥS, dydΥW, dydΥE,    dxdXSW, dxdXSE,      2,      2, dydXSW, dydXSE,      2,      2, dxdYSW, dxdYSE,      2,      2, dydYSW, dydYSE,      2,      2)\n",
    "a=nodeS.diff(uN)\n",
    "b=nodeN.diff(uS)\n",
    "(a-b).simplify()"
   ]
  },
  {
   "cell_type": "code",
   "execution_count": 102,
   "metadata": {},
   "outputs": [
    {
     "data": {
      "text/latex": [
       "$\\displaystyle 0$"
      ],
      "text/plain": [
       "0"
      ]
     },
     "execution_count": 102,
     "metadata": {},
     "output_type": "execute_result"
    }
   ],
   "source": [
    "# W/E\n",
    "nodeE = stencil(kxxW, kxyW, kxxE, kxyE,  kyyS, kyxS, kyyN, kyxN,       kxy1, kxy2, kxy1, kxy2, kxx1, kxx2, kxx1, kxx2, kyy1, kyy2, kyy1, kyy2,    dxdXN, dxdXS, dydXW, dydXE, dxdΥN, dxdΥS, dydΥW, dydΥE,    dxdXSW, dxdXSE, dxdXNW, dxdXNE, dydXSW, dydXSE, dydXNW, dydXNE, dxdYSW, dxdYSE, dxdYNW, dxdYNE, dydYSW, dydYSE, dydYNW, dydYNE )\n",
    "nodeW = stencil(kxxW, kxyW, kxxE, kxyE,  kyyS, kyxS, kyyN, kyxN,       kxy2, kxy1, kxy2, kxy1, kxx2, kxx1, kxx2, kxx1, kyy2, kyy1, kyy2, kyy1,    dxdXN, dxdXS, dydXW, dydXE, dxdΥN, dxdΥS, dydΥW, dydΥE,    dxdXSW, dxdXSE, dxdXNW, dxdXNE, dydXSW, dydXSE, dydXNW, dydXNE, dxdYSW, dxdYSE, dxdYNW, dxdYNE, dydYSW, dydYSE, dydYNW, dydYNE )\n",
    "a=nodeE.diff(uW)\n",
    "b=nodeW.diff(uE)\n",
    "(a-b).simplify()"
   ]
  },
  {
   "cell_type": "code",
   "execution_count": 103,
   "metadata": {},
   "outputs": [
    {
     "data": {
      "text/latex": [
       "$\\displaystyle 0$"
      ],
      "text/plain": [
       "0"
      ]
     },
     "execution_count": 103,
     "metadata": {},
     "output_type": "execute_result"
    }
   ],
   "source": [
    "# NE/SW\n",
    "nodeNE = stencil(kxxW, kxyW, kxxE, kxyE,  kyyS, kyxS, kyyN, kyxN,       kxy1, kxy2, kxy2, kxy2, kxx1, kxx2, kxx2, kxx2, kyy1, kyy2, kyy2, kyy2,    dxdXN, dxdXS, dydXW, dydXE, dxdΥN, dxdΥS, dydΥW, dydΥE,   dxdXSW, dxdXSE, dxdXNW, dxdXNE, dydXSW, dydXSE, dydXNW, dydXNE, dxdYSW, dxdYSE, dxdYNW, dxdYNE, dydYSW, dydYSE, dydYNW, dydYNE )\n",
    "nodeSW = stencil(kxxW, kxyW, kxxE, kxyE,  kyyS, kyxS, kyyN, kyxN,       kxy2, kxy1, kxy1, kxy1, kxx2, kxx1, kxx1, kxx1, kyy2, kyy1, kyy1, kyy1,    dxdXN, dxdXS, dydXW, dydXE, dxdΥN, dxdΥS, dydΥW, dydΥE,   dxdXSW, dxdXSE, dxdXNW, dxdXNE, dydXSW, dydXSE, dydXNW, dydXNE, dxdYSW, dxdYSE, dxdYNW, dxdYNE, dydYSW, dydYSE, dydYNW, dydYNE )\n",
    "a=nodeNE.diff(uSW)\n",
    "b=nodeSW.diff(uNE)\n",
    "(a-b).simplify()"
   ]
  }
 ],
 "metadata": {
  "kernelspec": {
   "display_name": "Python 3",
   "language": "python",
   "name": "python3"
  },
  "language_info": {
   "codemirror_mode": {
    "name": "ipython",
    "version": 3
   },
   "file_extension": ".py",
   "mimetype": "text/x-python",
   "name": "python",
   "nbconvert_exporter": "python",
   "pygments_lexer": "ipython3",
   "version": "3.9.6"
  }
 },
 "nbformat": 4,
 "nbformat_minor": 2
}
