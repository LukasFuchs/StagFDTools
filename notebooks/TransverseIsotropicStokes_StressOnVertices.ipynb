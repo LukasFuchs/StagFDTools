{
 "cells": [
  {
   "cell_type": "code",
   "execution_count": 74,
   "metadata": {},
   "outputs": [],
   "source": [
    "from sympy import *"
   ]
  },
  {
   "cell_type": "code",
   "execution_count": 75,
   "metadata": {},
   "outputs": [],
   "source": [
    "dx, dy, eta = symbols('dx, dy, eta')"
   ]
  },
  {
   "cell_type": "code",
   "execution_count": 76,
   "metadata": {},
   "outputs": [],
   "source": [
    "uSW, uS, uSE = symbols('uSW, uS, uSE') \n",
    "uW,  uC, uE  = symbols('uW,  uC, uE') \n",
    "uNW, uN, uNE = symbols('uNW, uN, uNE')\n",
    "vSSW, vSSE   = symbols('vSSW, vSSE')\n",
    "vSWW, vSW, vSE, vSEE = symbols('vSWW, vSW, vSE, vSEE')\n",
    "vNWW, vNW, vNE, vNEE = symbols('vNWW, vNW, vNE, vNEE')\n",
    "vNNW, vNNE   = symbols('vNNW, vNNE')\n",
    "uSSW, uSS, uSSE = symbols('uSSW, uSS, uSSE')\n",
    "uNNW, uNN, uNNE = symbols('uNNW, uNN, uNNE')\n",
    "uSWW, uWW, uNWW = symbols('uSWW, uWW, uNWW')\n",
    "uSEE, uEE, uNEE = symbols('uSEE, uEE, uNEE')\n",
    "\n",
    "u = Matrix([[0, uSWW, uWW, uNWW, 0],\n",
    "            [0, uSW, uW, uNW, 0],\n",
    "            [0, uS,  uC, uN,  0], \n",
    "            [0, uSE, uE, uNE, 0],\n",
    "            [0, uSEE, uEE, uNEE, 0] ])\n",
    "v = Matrix([[0,    vSWW, vNWW, 0],\n",
    "            [0,    vSW,  vNW,  0],\n",
    "            [0,    vSE,  vNE,  0],\n",
    "            [0,    vSEE, vNEE, 0]]) \n",
    "            \n",
    "dudx = (u[1:,:] - u[:-1,:])/dx\n",
    "dvdy = (v[:,1:] - v[:,:-1])/dy\n",
    "dvdx = (v[1:,:] - v[:-1,:])/dx\n",
    "dudy = (u[:,1:] - u[:,:-1])/dy \n",
    "\n",
    "divV = dudx[:,1:-1] + dvdy\n",
    "exx  = dudx[:,1:-1] - Rational(1,2) * divV\n",
    "exy  = Rational(1,2) * (dudy[1:-1,:] + dvdx)\n",
    "\n",
    "exx_av = Rational(1,4) * (exx[1:,1:] + exx[:-1,:-1] + exx[1:,:-1] + exx[:-1,1:] )\n",
    "eyy_av = Rational(1,4) * (eyy[1:,1:] + eyy[:-1,:-1] + eyy[1:,:-1] + eyy[:-1,1:] )\n",
    "\n",
    "Txx  = 2*eta*exx_av\n",
    "Tyy  = 2*eta*eyy_av\n",
    "Txy  = 2*eta*exy\n",
    "Txx_av = Rational(1,4) * (Txx[1:,1:] + Txx[:-1,:-1] + Txx[1:,:-1] + Txx[:-1,1:] )\n",
    "shape(Txy)\n",
    "fx = ((Txx_av[1:,0] - Txx_av[:-1,0])/dx)[0]  + (Txy[1,2] - Txy[1,1])/dy\n"
   ]
  },
  {
   "cell_type": "code",
   "execution_count": 77,
   "metadata": {},
   "outputs": [],
   "source": [
    "vSW, vS, vSE = symbols('vSW, vS, vSE') \n",
    "vW,  vC, vE  = symbols('vW,  vC, vE') \n",
    "vNW, vN, vNE = symbols('vNW, vN, vNE')\n",
    "uSSW, uSSE   = symbols('uSSW, uSSE')\n",
    "uSWW, uSW, uSE, uSEE = symbols('uSWW, uSW, uSE, uSEE')\n",
    "uNWW, uNW, uNE, uNEE = symbols('uNWW, uNW, uNE, uNEE')\n",
    "uNNW, uNNE   = symbols('uNNW, uNNE')\n",
    "vSWW, vWW, vNWW = symbols('vSWW, vWW, vNWW')\n",
    "vSEE, vEE, vNEE = symbols('vSEE, vEE, vNEE')\n",
    "vSW, vS, vSE   = symbols('vSW, vS, vSE  ')\n",
    "vNNW,vNN, vNNE = symbols('vNNW,vNN, vNNE')\n",
    "\n",
    "v = Matrix([[0, 0, 0, 0, 0],\n",
    "            [vSW,  vSW,  vW,  vNW , vNNW ],\n",
    "            [vS,   vS,   vC,  vN  , vNN  ], \n",
    "            [vSE,  vSE,  vE,  vNE , vNNE ],\n",
    "            [0, 0, 0, 0, 0] ])\n",
    "u = Matrix([[0,    0, 0, 0],\n",
    "            [uSSW, uSW,  uNW, uNNW],\n",
    "            [uSSE, uSE,  uNE, uNNE],\n",
    "            [0,    0, 0, 0]]) \n",
    "\n",
    "\n",
    "dudx = (u[1:,:] - u[:-1,:])/dx\n",
    "dvdy = (v[:,1:] - v[:,:-1])/dy\n",
    "dvdx = (v[1:,:] - v[:-1,:])/dx\n",
    "dudy = (u[:,1:] - u[:,:-1])/dy \n",
    "\n",
    "divV = dudx + dvdy[1:-1,:]\n",
    "eyy  = dvdy[1:-1,:] - Rational(1,2) * divV\n",
    "exy  = Rational(1,2) * (dudy + dvdx[:,1:-1])\n",
    "\n",
    "eyy_av = Rational(1,4) * (eyy[1:,1:] + eyy[:-1,:-1] + eyy[1:,:-1] + eyy[:-1,1:] )\n",
    "Tyy  = 2*eta*eyy_av\n",
    "Txy  = 2*eta*exy\n",
    "Tyy_av = Rational(1,4) * (Tyy[1:,1:] + Tyy[:-1,:-1] + Tyy[1:,:-1] + Tyy[:-1,1:] )\n",
    "fy = ((Tyy_av[0,1:] - Tyy_av[0,:-1])/dy)[0] + (Txy[2,1] - Txy[1,1])/dx"
   ]
  },
  {
   "cell_type": "code",
   "execution_count": 94,
   "metadata": {},
   "outputs": [
    {
     "data": {
      "text/latex": [
       "$\\displaystyle \\left[\\begin{matrix}0 & - uSSW + vSWW & - uSSE + vNWW & 0\\\\0 & - uSW + vSW & - uSE + vNW & 0\\\\0 & - uW + vSE & - uE + vNE & 0\\\\0 & - uSW + vSEE & - uSE + vNEE & 0\\end{matrix}\\right]$"
      ],
      "text/plain": [
       "Matrix([\n",
       "[0, -uSSW + vSWW, -uSSE + vNWW, 0],\n",
       "[0,   -uSW + vSW,   -uSE + vNW, 0],\n",
       "[0,    -uW + vSE,    -uE + vNE, 0],\n",
       "[0,  -uSW + vSEE,  -uSE + vNEE, 0]])"
      ]
     },
     "execution_count": 94,
     "metadata": {},
     "output_type": "execute_result"
    }
   ],
   "source": [
    "v_stencil_x = Matrix([[0,    vSWW, vNWW, 0],\n",
    "                      [0,    vSW,  vNW,  0],\n",
    "                      [0,    vSE,  vNE,  0],\n",
    "                      [0,    vSEE, vNEE, 0]]) \n",
    "u_stencil_y = Matrix([[0,    0, 0, 0],\n",
    "            [uSSW, uSW,  uNW, uNNW],\n",
    "            [uSSE, uSE,  uNE, uNNE],\n",
    "            [0,    0, 0, 0]]) \n",
    "v_stencil_x - (u_stencil_y.transpose())         "
   ]
  },
  {
   "cell_type": "code",
   "execution_count": 99,
   "metadata": {},
   "outputs": [
    {
     "data": {
      "text/latex": [
       "$\\displaystyle \\frac{\\eta}{16 dx dy}$"
      ],
      "text/plain": [
       "eta/(16*dx*dy)"
      ]
     },
     "execution_count": 99,
     "metadata": {},
     "output_type": "execute_result"
    }
   ],
   "source": [
    "fx.diff(vNWW) - fy.diff(uSEE)"
   ]
  },
  {
   "cell_type": "code",
   "execution_count": 98,
   "metadata": {},
   "outputs": [
    {
     "data": {
      "text/latex": [
       "$\\displaystyle - \\frac{7 \\eta}{8 dx dy}$"
      ],
      "text/plain": [
       "-7*eta/(8*dx*dy)"
      ]
     },
     "execution_count": 98,
     "metadata": {},
     "output_type": "execute_result"
    }
   ],
   "source": [
    "fx.diff(vSEE) - fy.diff(uNNW)"
   ]
  },
  {
   "cell_type": "code",
   "execution_count": 81,
   "metadata": {},
   "outputs": [
    {
     "data": {
      "text/latex": [
       "$\\displaystyle 0$"
      ],
      "text/plain": [
       "0"
      ]
     },
     "execution_count": 81,
     "metadata": {},
     "output_type": "execute_result"
    }
   ],
   "source": [
    "fx.diff(vNW) - fy.diff(uSE)"
   ]
  },
  {
   "cell_type": "code",
   "execution_count": 82,
   "metadata": {},
   "outputs": [
    {
     "data": {
      "text/latex": [
       "$\\displaystyle 0$"
      ],
      "text/plain": [
       "0"
      ]
     },
     "execution_count": 82,
     "metadata": {},
     "output_type": "execute_result"
    }
   ],
   "source": [
    "fx.diff(vNE) - fy.diff(uSW)"
   ]
  },
  {
   "cell_type": "code",
   "execution_count": 83,
   "metadata": {},
   "outputs": [
    {
     "data": {
      "text/latex": [
       "$\\displaystyle 0$"
      ],
      "text/plain": [
       "0"
      ]
     },
     "execution_count": 83,
     "metadata": {},
     "output_type": "execute_result"
    }
   ],
   "source": [
    "fx.diff(vSW) - fy.diff(uNE)"
   ]
  },
  {
   "cell_type": "code",
   "execution_count": 84,
   "metadata": {},
   "outputs": [
    {
     "data": {
      "text/latex": [
       "$\\displaystyle 0$"
      ],
      "text/plain": [
       "0"
      ]
     },
     "execution_count": 84,
     "metadata": {},
     "output_type": "execute_result"
    }
   ],
   "source": [
    "fx.diff(vSE) - fy.diff(uNW)"
   ]
  },
  {
   "cell_type": "code",
   "execution_count": 85,
   "metadata": {},
   "outputs": [
    {
     "data": {
      "text/latex": [
       "$\\displaystyle 0$"
      ],
      "text/plain": [
       "0"
      ]
     },
     "execution_count": 85,
     "metadata": {},
     "output_type": "execute_result"
    }
   ],
   "source": [
    "fx.diff(uN) - fx.diff(uS)"
   ]
  },
  {
   "cell_type": "code",
   "execution_count": 86,
   "metadata": {},
   "outputs": [
    {
     "data": {
      "text/latex": [
       "$\\displaystyle 0$"
      ],
      "text/plain": [
       "0"
      ]
     },
     "execution_count": 86,
     "metadata": {},
     "output_type": "execute_result"
    }
   ],
   "source": [
    "fx.diff(uNNE) - fx.diff(uSSW)"
   ]
  },
  {
   "cell_type": "code",
   "execution_count": 87,
   "metadata": {},
   "outputs": [
    {
     "data": {
      "text/latex": [
       "$\\displaystyle 0$"
      ],
      "text/plain": [
       "0"
      ]
     },
     "execution_count": 87,
     "metadata": {},
     "output_type": "execute_result"
    }
   ],
   "source": [
    "# Free slip boundary\n",
    "\n",
    "# exySW, exyS, exySE, exyW, exyC, exyE = symbols('exySW, exyS, exySE, exyW, exyC, exyE')\n",
    "# exyNW, exyN, exyNE = symbols('exyNW, exyN, exyNE')\n",
    "\n",
    "# exySW_av = Rational(1,4) * ( exySW + exyS  + exyW + exyC )\n",
    "# exySE_av = Rational(1,4) * ( exyS  + exySE + exyE  + exyC )\n",
    "# exyNW_av = Rational(1,4) * ( exyNW + exyN  + exyW + exyC )\n",
    "# exyNE_av = Rational(1,4) * ( exyN  + exyNE + exyE  + exyC )\n",
    "# exy      = Rational(1,4) * ( exySW_av + exySE_av + exyNW_av + exyNE_av )\n",
    "\n",
    "uSW, uS, uSE = symbols('uSW, uS, uSE') \n",
    "uW,  uC, uE  = symbols('uW,  uC, uE') \n",
    "uNW, uN, uNE = symbols('uNW, uN, uNE')\n",
    "vSSW, vSSE   = symbols('vSSW, vSSE')\n",
    "vSWW, vSW, vSE, vSEE = symbols('vSWW, vSW, vSE, vSEE')\n",
    "vNWW, vNW, vNE, vNEE = symbols('vNWW, vNW, vNE, vNEE')\n",
    "vNNW, vNNE   = symbols('vNNW, vNNE')\n",
    "uSSW, uSS, uSSE = symbols('uSSW, uSS, uSSE')\n",
    "uNNW, uNN, uNNE = symbols('uNNW, uNN, uNNE')\n",
    "\n",
    "# dudy \n",
    "# uN   = uC\n",
    "uNW  =   uW\n",
    "uNE  =   uE\n",
    "uNNW = -uNW + uW + uSW\n",
    "uNN  =  15*uN - 15*uC + uS  \n",
    "uNNE = -uNE + uE + uSE\n",
    "\n",
    "u = Matrix([[uSSW, uSW, uW, uNW, uNNW],\n",
    "            [uSS,  uS,  uC, uN,  uNN], \n",
    "            [uSSE, uSE, uE, uNE, uNNE] ])\n",
    "\n",
    "v = Matrix([[0,    vSWW, vNWW, 0],\n",
    "            [vSSW, vSW,  vNW, vNNW],\n",
    "            [vSSE, vSE,  vNE, vNNE],\n",
    "            [0,    vSEE, vNEE, 0]])  \n",
    "dudx = (u[1:,:] - u[:-1,:])/dx\n",
    "dvdy = (v[:,1:] - v[:,:-1])/dy\n",
    "dvdx = (v[1:,:] - v[:-1,:])/dx\n",
    "dudy = (u[:,1:] - u[:,:-1])/dy \n",
    "\n",
    "divV = dudx[:,1:-1] + dvdy[1:-1,:]\n",
    "exx  = dudx[:,1:-1] - Rational(1,2) * divV\n",
    "exy  = Rational(1,2) * (dudy + 0*dvdx)\n",
    "\n",
    "exy_av = Rational(1,4) * (exy[1:,1:] + exy[:-1,:-1] + exy[1:,:-1] + exy[:-1,1:] )\n",
    "Tyy    = eyy\n",
    "Txy    = exy_av\n",
    "Txy_av = Rational(1,4) * (Txy[1:,1:] + Txy[:-1,:-1] + Txy[1:,:-1] + Txy[:-1,1:] )\n",
    "fbc    = dudy[1,1:-1] - Txy_av\n",
    "fbc[0,1].simplify()"
   ]
  },
  {
   "cell_type": "code",
   "execution_count": null,
   "metadata": {},
   "outputs": [],
   "source": []
  }
 ],
 "metadata": {
  "kernelspec": {
   "display_name": "Python 3",
   "language": "python",
   "name": "python3"
  },
  "language_info": {
   "codemirror_mode": {
    "name": "ipython",
    "version": 3
   },
   "file_extension": ".py",
   "mimetype": "text/x-python",
   "name": "python",
   "nbconvert_exporter": "python",
   "pygments_lexer": "ipython3",
   "version": "3.9.6"
  }
 },
 "nbformat": 4,
 "nbformat_minor": 2
}
