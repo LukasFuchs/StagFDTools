{
 "cells": [
  {
   "cell_type": "code",
   "execution_count": 1,
   "metadata": {},
   "outputs": [],
   "source": [
    "from sympy import *"
   ]
  },
  {
   "cell_type": "code",
   "execution_count": 2,
   "metadata": {},
   "outputs": [],
   "source": [
    "dx, dy, eta = symbols('dx, dy, eta')"
   ]
  },
  {
   "cell_type": "code",
   "execution_count": 23,
   "metadata": {},
   "outputs": [
    {
     "data": {
      "text/plain": [
       "'[(-etaN/dy - etaS/dy)/dy + (-etaE/dx - etaW/dx)/dx]'"
      ]
     },
     "execution_count": 23,
     "metadata": {},
     "output_type": "execute_result"
    }
   ],
   "source": [
    "uSW, uS, uSE = symbols('uSW, uS, uSE') \n",
    "uW,  uC, uE  = symbols('uW,  uC, uE') \n",
    "uNW, uN, uNE = symbols('uNW, uN, uNE')\n",
    "vSSW, vSSE   = symbols('vSSW, vSSE')\n",
    "vSWW, vSW, vSE, vSEE = symbols('vSWW, vSW, vSE, vSEE')\n",
    "vNWW, vNW, vNE, vNEE = symbols('vNWW, vNW, vNE, vNEE')\n",
    "vNNW, vNNE   = symbols('vNNW, vNNE')\n",
    "etaW, etaE   = symbols('etaW, etaE')\n",
    "etaS, etaN   = symbols('etaS, etaN')\n",
    "\n",
    "u = Matrix([[ 0, uW,  0],\n",
    "            [uS, uC, uN], \n",
    "            [ 0, uE,  0] ])\n",
    "v = Matrix([[0,   0,    0, 0],\n",
    "            [0, vSW,  vNW, 0],\n",
    "            [0, vSE,  vNE, 0],\n",
    "            [0,   0,    0, 0]]) \n",
    "eta_c = Matrix([[etaW], [etaE]])\n",
    "eta_v = Matrix([[etaS, etaN]])\n",
    "\n",
    "dudx = (u[1:,:] - u[:-1,:])/dx\n",
    "dvdy = (v[:,1:] - v[:,:-1])/dy\n",
    "dvdx = (v[1:,:] - v[:-1,:])/dx\n",
    "dudy = (u[:,1:] - u[:,:-1])/dy \n",
    "\n",
    "divV = dudx + dvdy[1:-1,:]\n",
    "exx  = dudx - Rational(1,2) * divV\n",
    "exy  = Rational(1,2) * (dudy + dvdx[:,1:-1])\n",
    "\n",
    "Txx  = 2*HadamardProduct(eta_c, exx[:,1:-1])\n",
    "Txy  = 2*HadamardProduct(eta_v, exy[1:-1,:])\n",
    "fx = (Txx[1:,:] - Txx[:-1,:])/dx + (Txy[:,1:] - Txy[:,:-1])/dy\n",
    "julia_code(fx.diff(uC))"
   ]
  },
  {
   "cell_type": "code",
   "execution_count": 27,
   "metadata": {},
   "outputs": [
    {
     "data": {
      "text/latex": [
       "$\\displaystyle \\left[\\begin{matrix}\\frac{vW}{2 dy} - \\frac{uSW}{2 dx} & - \\frac{vW}{2 dy} - \\frac{uNW}{2 dx}\\\\\\frac{vC - vS}{2 dy} - \\frac{uSE - uSW}{2 dx} & \\frac{- vC + vN}{2 dy} - \\frac{uNE - uNW}{2 dx}\\\\\\frac{vE}{2 dy} + \\frac{uSE}{2 dx} & - \\frac{vE}{2 dy} + \\frac{uNE}{2 dx}\\end{matrix}\\right]$"
      ],
      "text/plain": [
       "Matrix([\n",
       "[               vW/(2*dy) - uSW/(2*dx),                -vW/(2*dy) - uNW/(2*dx)],\n",
       "[(vC - vS)/(2*dy) - (uSE - uSW)/(2*dx), (-vC + vN)/(2*dy) - (uNE - uNW)/(2*dx)],\n",
       "[               vE/(2*dy) + uSE/(2*dx),                -vE/(2*dy) + uNE/(2*dx)]])"
      ]
     },
     "execution_count": 27,
     "metadata": {},
     "output_type": "execute_result"
    }
   ],
   "source": [
    "vSW, vS, vSE = symbols('vSW, vS, vSE') \n",
    "vW,  vC, vE  = symbols('vW,  vC, vE') \n",
    "vNW, vN, vNE = symbols('vNW, vN, vNE')\n",
    "uSSW, uSSE   = symbols('uSSW, uSSE')\n",
    "uSWW, uSW, uSE, uSEE = symbols('uSWW, uSW, uSE, uSEE')\n",
    "uNWW, uNW, uNE, uNEE = symbols('uNWW, uNW, uNE, uNEE')\n",
    "uNNW, uNNE   = symbols('uNNW, uNNE')\n",
    "etaW, etaE   = symbols('etaW, etaE')\n",
    "etaS, etaN   = symbols('etaS, etaN')\n",
    "\n",
    "v = Matrix([[ 0, vW,   0],\n",
    "            [vS,  vC, vN], \n",
    "            [ 0, vE,   0] ])\n",
    "u = Matrix([[0,   0,    0, 0],\n",
    "            [0, uSW,  uNW, 0],\n",
    "            [0, uSE,  uNE, 0],\n",
    "            [0,   0,    0, 0]])\n",
    "eta_c = Matrix([[etaS], [etaN]])\n",
    "eta_v = Matrix([[etaW, etaE]]) \n",
    "\n",
    "dudx = (u[1:,:] - u[:-1,:])/dx\n",
    "dvdy = (v[:,1:] - v[:,:-1])/dy\n",
    "dvdx = (v[1:,:] - v[:-1,:])/dx\n",
    "dudy = (u[:,1:] - u[:,:-1])/dy \n",
    "\n",
    "divV = dudx[:,1:-1] + dvdy\n",
    "eyy  = dvdy - Rational(1,2) * divV\n",
    "exy  = Rational(1,2) * (dudy[1:-1,:] + dvdx)\n",
    "\n",
    "Tyy  = 2*HadamardProduct(eta_c, eyy[1:-1,:])\n",
    "#Txy  = 2*HadamardProduct(eta_v, exy[1:-1,:])\n",
    "\n",
    "# Tyy_av = Rational(1,2) * (Tyy[1:,:] + Tyy[:-1,:] )\n",
    "# Txy_av = Rational(1,2) * (Txy[:,1:] + Txy[:,:-1] )\n",
    "# fy = (Tyy_av[:,1:] - Tyy_av[:,:-1])/dy + (Txy_av[1:,:] - Txy_av[:-1,:])/dx\n"
   ]
  },
  {
   "cell_type": "code",
   "execution_count": 5,
   "metadata": {},
   "outputs": [
    {
     "data": {
      "text/latex": [
       "$\\displaystyle \\left[\\begin{matrix}0\\end{matrix}\\right]$"
      ],
      "text/plain": [
       "Matrix([[0]])"
      ]
     },
     "execution_count": 5,
     "metadata": {},
     "output_type": "execute_result"
    }
   ],
   "source": [
    "fx.diff(vNNE) - fy.diff(uSSW)"
   ]
  },
  {
   "cell_type": "code",
   "execution_count": 6,
   "metadata": {},
   "outputs": [
    {
     "data": {
      "text/latex": [
       "$\\displaystyle \\left[\\begin{matrix}0\\end{matrix}\\right]$"
      ],
      "text/plain": [
       "Matrix([[0]])"
      ]
     },
     "execution_count": 6,
     "metadata": {},
     "output_type": "execute_result"
    }
   ],
   "source": [
    "fx.diff(vNNW) - fy.diff(uSSE)"
   ]
  },
  {
   "cell_type": "code",
   "execution_count": 7,
   "metadata": {},
   "outputs": [
    {
     "data": {
      "text/latex": [
       "$\\displaystyle \\left[\\begin{matrix}0\\end{matrix}\\right]$"
      ],
      "text/plain": [
       "Matrix([[0]])"
      ]
     },
     "execution_count": 7,
     "metadata": {},
     "output_type": "execute_result"
    }
   ],
   "source": [
    "fx.diff(vNWW) - fy.diff(uSEE)"
   ]
  },
  {
   "cell_type": "code",
   "execution_count": 8,
   "metadata": {},
   "outputs": [
    {
     "data": {
      "text/latex": [
       "$\\displaystyle \\left[\\begin{matrix}0\\end{matrix}\\right]$"
      ],
      "text/plain": [
       "Matrix([[0]])"
      ]
     },
     "execution_count": 8,
     "metadata": {},
     "output_type": "execute_result"
    }
   ],
   "source": [
    "fx.diff(vSEE) - fy.diff(uNWW)"
   ]
  },
  {
   "cell_type": "code",
   "execution_count": 9,
   "metadata": {},
   "outputs": [
    {
     "data": {
      "text/latex": [
       "$\\displaystyle \\left[\\begin{matrix}0\\end{matrix}\\right]$"
      ],
      "text/plain": [
       "Matrix([[0]])"
      ]
     },
     "execution_count": 9,
     "metadata": {},
     "output_type": "execute_result"
    }
   ],
   "source": [
    "fx.diff(vNW) - fy.diff(uSE)"
   ]
  },
  {
   "cell_type": "code",
   "execution_count": 10,
   "metadata": {},
   "outputs": [
    {
     "data": {
      "text/latex": [
       "$\\displaystyle \\left[\\begin{matrix}0\\end{matrix}\\right]$"
      ],
      "text/plain": [
       "Matrix([[0]])"
      ]
     },
     "execution_count": 10,
     "metadata": {},
     "output_type": "execute_result"
    }
   ],
   "source": [
    "fx.diff(vNE) - fy.diff(uSW)"
   ]
  },
  {
   "cell_type": "code",
   "execution_count": 11,
   "metadata": {},
   "outputs": [
    {
     "data": {
      "text/latex": [
       "$\\displaystyle \\left[\\begin{matrix}0\\end{matrix}\\right]$"
      ],
      "text/plain": [
       "Matrix([[0]])"
      ]
     },
     "execution_count": 11,
     "metadata": {},
     "output_type": "execute_result"
    }
   ],
   "source": [
    "fx.diff(vSW) - fy.diff(uNE)"
   ]
  },
  {
   "cell_type": "code",
   "execution_count": 12,
   "metadata": {},
   "outputs": [
    {
     "data": {
      "text/latex": [
       "$\\displaystyle \\left[\\begin{matrix}0\\end{matrix}\\right]$"
      ],
      "text/plain": [
       "Matrix([[0]])"
      ]
     },
     "execution_count": 12,
     "metadata": {},
     "output_type": "execute_result"
    }
   ],
   "source": [
    "fx.diff(vSE) - fy.diff(uNW)"
   ]
  },
  {
   "cell_type": "code",
   "execution_count": 13,
   "metadata": {},
   "outputs": [
    {
     "data": {
      "text/latex": [
       "$\\displaystyle \\left[\\begin{matrix}0\\end{matrix}\\right]$"
      ],
      "text/plain": [
       "Matrix([[0]])"
      ]
     },
     "execution_count": 13,
     "metadata": {},
     "output_type": "execute_result"
    }
   ],
   "source": [
    "fx.diff(uN) - fx.diff(uS)"
   ]
  },
  {
   "cell_type": "code",
   "execution_count": null,
   "metadata": {},
   "outputs": [],
   "source": []
  }
 ],
 "metadata": {
  "kernelspec": {
   "display_name": "Python 3",
   "language": "python",
   "name": "python3"
  },
  "language_info": {
   "codemirror_mode": {
    "name": "ipython",
    "version": 3
   },
   "file_extension": ".py",
   "mimetype": "text/x-python",
   "name": "python",
   "nbconvert_exporter": "python",
   "pygments_lexer": "ipython3",
   "version": "3.9.6"
  }
 },
 "nbformat": 4,
 "nbformat_minor": 2
}
