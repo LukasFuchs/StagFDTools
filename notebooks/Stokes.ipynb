{
 "cells": [
  {
   "cell_type": "code",
   "execution_count": 48,
   "metadata": {},
   "outputs": [],
   "source": [
    "from sympy import *"
   ]
  },
  {
   "cell_type": "code",
   "execution_count": 49,
   "metadata": {},
   "outputs": [],
   "source": [
    "dx, dy, eta = symbols('dx, dy, eta')"
   ]
  },
  {
   "cell_type": "code",
   "execution_count": 63,
   "metadata": {},
   "outputs": [
    {
     "name": "stdout",
     "output_type": "stream",
     "text": [
      "Dx = (-etaN ./ dy - etaS ./ dy) ./ dy + (-4 // 3 * etaE ./ dx - 4 // 3 * etaW ./ dx) ./ dx\n"
     ]
    }
   ],
   "source": [
    "uSW, uS, uSE = symbols('uSW, uS, uSE') \n",
    "uW,  uC, uE  = symbols('uW,  uC, uE') \n",
    "uNW, uN, uNE = symbols('uNW, uN, uNE')\n",
    "vSSW, vSSE   = symbols('vSSW, vSSE')\n",
    "vSWW, vSW, vSE, vSEE = symbols('vSWW, vSW, vSE, vSEE')\n",
    "vNWW, vNW, vNE, vNEE = symbols('vNWW, vNW, vNE, vNEE')\n",
    "vNNW, vNNE   = symbols('vNNW, vNNE')\n",
    "etaW, etaE   = symbols('etaW, etaE')\n",
    "etaS, etaN   = symbols('etaS, etaN')\n",
    "\n",
    "u = Matrix([[ 0, uW,  0],\n",
    "            [uS, uC, uN], \n",
    "            [ 0, uE,  0] ])\n",
    "v = Matrix([[0,   0,    0, 0],\n",
    "            [0, vSW,  vNW, 0],\n",
    "            [0, vSE,  vNE, 0],\n",
    "            [0,   0,    0, 0]]) \n",
    "eta_c = Matrix([[etaW], [etaE]])\n",
    "eta_v = Matrix([[etaS, etaN]])\n",
    "\n",
    "dudx = (u[1:,:] - u[:-1,:])/dx\n",
    "dvdy = (v[:,1:] - v[:,:-1])/dy\n",
    "dvdx = (v[1:,:] - v[:-1,:])/dx\n",
    "dudy = (u[:,1:] - u[:,:-1])/dy \n",
    "\n",
    "divV = dudx + dvdy[1:-1,:]\n",
    "exx  = dudx - Rational(1,3) * divV\n",
    "exy  = Rational(1,2) * (dudy + dvdx[:,1:-1])\n",
    "\n",
    "Txx  = 2*HadamardProduct(eta_c, exx[:,1:-1])\n",
    "Txy  = 2*HadamardProduct(eta_v, exy[1:-1,:])\n",
    "fx = (Txx[1:,:] - Txx[:-1,:])/dx + (Txy[:,1:] - Txy[:,:-1])/dy\n",
    "print(\"Dx = \" + julia_code(fx.diff(uC)[0]))"
   ]
  },
  {
   "cell_type": "code",
   "execution_count": 64,
   "metadata": {},
   "outputs": [
    {
     "name": "stdout",
     "output_type": "stream",
     "text": [
      "Dy = (-4 // 3 * etaN ./ dy - 4 // 3 * etaS ./ dy) ./ dy + (-etaE ./ dx - etaW ./ dx) ./ dx\n"
     ]
    }
   ],
   "source": [
    "vSW, vS, vSE = symbols('vSW, vS, vSE') \n",
    "vW,  vC, vE  = symbols('vW,  vC, vE') \n",
    "vNW, vN, vNE = symbols('vNW, vN, vNE')\n",
    "uSSW, uSSE   = symbols('uSSW, uSSE')\n",
    "uSWW, uSW, uSE, uSEE = symbols('uSWW, uSW, uSE, uSEE')\n",
    "uNWW, uNW, uNE, uNEE = symbols('uNWW, uNW, uNE, uNEE')\n",
    "uNNW, uNNE   = symbols('uNNW, uNNE')\n",
    "etaW, etaE   = symbols('etaW, etaE')\n",
    "etaS, etaN   = symbols('etaS, etaN')\n",
    "\n",
    "v = Matrix([[ 0, vW,   0],\n",
    "            [vS,  vC, vN], \n",
    "            [ 0, vE,   0] ])\n",
    "u = Matrix([[0,   0,    0, 0],\n",
    "            [0, uSW,  uNW, 0],\n",
    "            [0, uSE,  uNE, 0],\n",
    "            [0,   0,    0, 0]])\n",
    "eta_c = Matrix([[etaS, etaN]])\n",
    "eta_v = Matrix([[etaW], [etaE]]) \n",
    "\n",
    "dudx = (u[1:,:] - u[:-1,:])/dx\n",
    "dvdy = (v[:,1:] - v[:,:-1])/dy\n",
    "dvdx = (v[1:,:] - v[:-1,:])/dx\n",
    "dudy = (u[:,1:] - u[:,:-1])/dy \n",
    "\n",
    "divV = dudx[:,1:-1] + dvdy\n",
    "eyy  = dvdy - Rational(1,3) * divV\n",
    "exy  = Rational(1,2) * (dudy[1:-1,:] + dvdx)\n",
    "\n",
    "Tyy  = 2*HadamardProduct(eta_c, eyy[1:-1,:])\n",
    "Txy  = 2*HadamardProduct(eta_v, exy[:,1:-1])\n",
    "fy = (Tyy[:,1:] - Tyy[:,:-1])/dy + (Txy[1:,:] - Txy[:-1,:])/dx\n",
    "print(\"Dy = \" + julia_code(fy.diff(vC)[0]))"
   ]
  },
  {
   "cell_type": "code",
   "execution_count": 52,
   "metadata": {},
   "outputs": [
    {
     "data": {
      "text/latex": [
       "$\\displaystyle \\left[\\begin{matrix}0\\end{matrix}\\right]$"
      ],
      "text/plain": [
       "Matrix([[0]])"
      ]
     },
     "execution_count": 52,
     "metadata": {},
     "output_type": "execute_result"
    }
   ],
   "source": [
    "fx.diff(vNNE) - fy.diff(uSSW)"
   ]
  },
  {
   "cell_type": "code",
   "execution_count": 53,
   "metadata": {},
   "outputs": [
    {
     "data": {
      "text/latex": [
       "$\\displaystyle \\left[\\begin{matrix}0\\end{matrix}\\right]$"
      ],
      "text/plain": [
       "Matrix([[0]])"
      ]
     },
     "execution_count": 53,
     "metadata": {},
     "output_type": "execute_result"
    }
   ],
   "source": [
    "fx.diff(vNNW) - fy.diff(uSSE)"
   ]
  },
  {
   "cell_type": "code",
   "execution_count": 54,
   "metadata": {},
   "outputs": [
    {
     "data": {
      "text/latex": [
       "$\\displaystyle \\left[\\begin{matrix}0\\end{matrix}\\right]$"
      ],
      "text/plain": [
       "Matrix([[0]])"
      ]
     },
     "execution_count": 54,
     "metadata": {},
     "output_type": "execute_result"
    }
   ],
   "source": [
    "fx.diff(vNWW) - fy.diff(uSEE)"
   ]
  },
  {
   "cell_type": "code",
   "execution_count": 55,
   "metadata": {},
   "outputs": [
    {
     "data": {
      "text/latex": [
       "$\\displaystyle \\left[\\begin{matrix}0\\end{matrix}\\right]$"
      ],
      "text/plain": [
       "Matrix([[0]])"
      ]
     },
     "execution_count": 55,
     "metadata": {},
     "output_type": "execute_result"
    }
   ],
   "source": [
    "fx.diff(vSEE) - fy.diff(uNWW)"
   ]
  },
  {
   "cell_type": "code",
   "execution_count": 56,
   "metadata": {},
   "outputs": [
    {
     "data": {
      "text/latex": [
       "$\\displaystyle \\left[\\begin{matrix}\\frac{etaE}{dx dy} - \\frac{etaN}{dx dy} - \\frac{etaS}{dx dy} + \\frac{etaW}{dx dy}\\end{matrix}\\right]$"
      ],
      "text/plain": [
       "Matrix([[etaE/(dx*dy) - etaN/(dx*dy) - etaS/(dx*dy) + etaW/(dx*dy)]])"
      ]
     },
     "execution_count": 56,
     "metadata": {},
     "output_type": "execute_result"
    }
   ],
   "source": [
    "fx.diff(vNW) - fy.diff(uSE)"
   ]
  },
  {
   "cell_type": "code",
   "execution_count": 57,
   "metadata": {},
   "outputs": [
    {
     "data": {
      "text/latex": [
       "$\\displaystyle \\left[\\begin{matrix}- \\frac{etaE}{dx dy} + \\frac{etaN}{dx dy} + \\frac{etaS}{dx dy} - \\frac{etaW}{dx dy}\\end{matrix}\\right]$"
      ],
      "text/plain": [
       "Matrix([[-etaE/(dx*dy) + etaN/(dx*dy) + etaS/(dx*dy) - etaW/(dx*dy)]])"
      ]
     },
     "execution_count": 57,
     "metadata": {},
     "output_type": "execute_result"
    }
   ],
   "source": [
    "fx.diff(vNE) - fy.diff(uSW)"
   ]
  },
  {
   "cell_type": "code",
   "execution_count": 58,
   "metadata": {},
   "outputs": [
    {
     "data": {
      "text/latex": [
       "$\\displaystyle \\left[\\begin{matrix}- \\frac{etaE}{dx dy} + \\frac{etaN}{dx dy} + \\frac{etaS}{dx dy} - \\frac{etaW}{dx dy}\\end{matrix}\\right]$"
      ],
      "text/plain": [
       "Matrix([[-etaE/(dx*dy) + etaN/(dx*dy) + etaS/(dx*dy) - etaW/(dx*dy)]])"
      ]
     },
     "execution_count": 58,
     "metadata": {},
     "output_type": "execute_result"
    }
   ],
   "source": [
    "fx.diff(vSW) - fy.diff(uNE)"
   ]
  },
  {
   "cell_type": "code",
   "execution_count": 59,
   "metadata": {},
   "outputs": [
    {
     "data": {
      "text/latex": [
       "$\\displaystyle \\left[\\begin{matrix}\\frac{etaE}{dx dy} - \\frac{etaN}{dx dy} - \\frac{etaS}{dx dy} + \\frac{etaW}{dx dy}\\end{matrix}\\right]$"
      ],
      "text/plain": [
       "Matrix([[etaE/(dx*dy) - etaN/(dx*dy) - etaS/(dx*dy) + etaW/(dx*dy)]])"
      ]
     },
     "execution_count": 59,
     "metadata": {},
     "output_type": "execute_result"
    }
   ],
   "source": [
    "fx.diff(vSE) - fy.diff(uNW)"
   ]
  },
  {
   "cell_type": "code",
   "execution_count": 60,
   "metadata": {},
   "outputs": [
    {
     "data": {
      "text/latex": [
       "$\\displaystyle \\left[\\begin{matrix}\\frac{etaN}{dy^{2}} - \\frac{etaS}{dy^{2}}\\end{matrix}\\right]$"
      ],
      "text/plain": [
       "Matrix([[etaN/dy**2 - etaS/dy**2]])"
      ]
     },
     "execution_count": 60,
     "metadata": {},
     "output_type": "execute_result"
    }
   ],
   "source": [
    "fx.diff(uN) - fx.diff(uS)"
   ]
  },
  {
   "cell_type": "code",
   "execution_count": null,
   "metadata": {},
   "outputs": [],
   "source": []
  }
 ],
 "metadata": {
  "kernelspec": {
   "display_name": "Python 3",
   "language": "python",
   "name": "python3"
  },
  "language_info": {
   "codemirror_mode": {
    "name": "ipython",
    "version": 3
   },
   "file_extension": ".py",
   "mimetype": "text/x-python",
   "name": "python",
   "nbconvert_exporter": "python",
   "pygments_lexer": "ipython3",
   "version": "3.9.6"
  }
 },
 "nbformat": 4,
 "nbformat_minor": 2
}
