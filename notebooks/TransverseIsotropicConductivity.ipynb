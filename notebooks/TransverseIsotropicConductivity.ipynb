{
 "cells": [
  {
   "cell_type": "code",
   "execution_count": 22,
   "metadata": {},
   "outputs": [],
   "source": [
    "from sympy import *\n",
    "k_iso, theta, delta =  symbols(\"k_iso, theta, delta\")\n",
    "Ex, Ey =  symbols(\"Ex, Ey\")"
   ]
  },
  {
   "cell_type": "code",
   "execution_count": 23,
   "metadata": {},
   "outputs": [],
   "source": [
    "Q      = Matrix([[cos(theta), sin(theta)],[-sin(theta), cos(theta)]]) \n",
    "E_cart = Matrix([[Ex],[Ey]]) "
   ]
  },
  {
   "cell_type": "code",
   "execution_count": 24,
   "metadata": {},
   "outputs": [
    {
     "data": {
      "text/latex": [
       "$\\displaystyle \\left[\\begin{matrix}Ex \\cos{\\left(\\theta \\right)} + Ey \\sin{\\left(\\theta \\right)}\\\\- Ex \\sin{\\left(\\theta \\right)} + Ey \\cos{\\left(\\theta \\right)}\\end{matrix}\\right]$"
      ],
      "text/plain": [
       "Matrix([\n",
       "[ Ex*cos(theta) + Ey*sin(theta)],\n",
       "[-Ex*sin(theta) + Ey*cos(theta)]])"
      ]
     },
     "execution_count": 24,
     "metadata": {},
     "output_type": "execute_result"
    }
   ],
   "source": [
    "# Transform E to material coordinates\n",
    "E_rot  = Q*E_cart\n",
    "E_rot"
   ]
  },
  {
   "cell_type": "code",
   "execution_count": 25,
   "metadata": {},
   "outputs": [
    {
     "data": {
      "text/latex": [
       "$\\displaystyle \\left[\\begin{matrix}- k_{iso} \\left(Ex \\cos{\\left(\\theta \\right)} + Ey \\sin{\\left(\\theta \\right)}\\right)\\\\- \\frac{k_{iso} \\left(- Ex \\sin{\\left(\\theta \\right)} + Ey \\cos{\\left(\\theta \\right)}\\right)}{\\delta}\\end{matrix}\\right]$"
      ],
      "text/plain": [
       "Matrix([\n",
       "[       -k_iso*(Ex*cos(theta) + Ey*sin(theta))],\n",
       "[-k_iso*(-Ex*sin(theta) + Ey*cos(theta))/delta]])"
      ]
     },
     "execution_count": 25,
     "metadata": {},
     "output_type": "execute_result"
    }
   ],
   "source": [
    "# Flux in material coordinates (transverse)\n",
    "K     = Matrix([[k_iso, 0],[0, k_iso/delta]])\n",
    "q_rot = -K *E_rot\n",
    "q_rot"
   ]
  },
  {
   "cell_type": "code",
   "execution_count": 26,
   "metadata": {},
   "outputs": [
    {
     "data": {
      "text/latex": [
       "$\\displaystyle \\left[\\begin{matrix}- k_{iso} \\left(Ex \\cos{\\left(\\theta \\right)} + Ey \\sin{\\left(\\theta \\right)}\\right) \\cos{\\left(\\theta \\right)} + \\frac{k_{iso} \\left(- Ex \\sin{\\left(\\theta \\right)} + Ey \\cos{\\left(\\theta \\right)}\\right) \\sin{\\left(\\theta \\right)}}{\\delta}\\\\- k_{iso} \\left(Ex \\cos{\\left(\\theta \\right)} + Ey \\sin{\\left(\\theta \\right)}\\right) \\sin{\\left(\\theta \\right)} - \\frac{k_{iso} \\left(- Ex \\sin{\\left(\\theta \\right)} + Ey \\cos{\\left(\\theta \\right)}\\right) \\cos{\\left(\\theta \\right)}}{\\delta}\\end{matrix}\\right]$"
      ],
      "text/plain": [
       "Matrix([\n",
       "[-k_iso*(Ex*cos(theta) + Ey*sin(theta))*cos(theta) + k_iso*(-Ex*sin(theta) + Ey*cos(theta))*sin(theta)/delta],\n",
       "[-k_iso*(Ex*cos(theta) + Ey*sin(theta))*sin(theta) - k_iso*(-Ex*sin(theta) + Ey*cos(theta))*cos(theta)/delta]])"
      ]
     },
     "execution_count": 26,
     "metadata": {},
     "output_type": "execute_result"
    }
   ],
   "source": [
    "# Transform back to Cartesian\n",
    "q_cart = Q.transpose() * q_rot\n",
    "q_cart"
   ]
  },
  {
   "cell_type": "code",
   "execution_count": 30,
   "metadata": {},
   "outputs": [
    {
     "name": "stdout",
     "output_type": "stream",
     "text": [
      "k_iso .* cos(theta) .^ 2 + k_iso .* sin(theta) .^ 2 ./ delta\n",
      "k_iso .* sin(theta) .* cos(theta) - k_iso .* sin(theta) .* cos(theta) ./ delta\n",
      "k_iso .* sin(theta) .* cos(theta) - k_iso .* sin(theta) .* cos(theta) ./ delta\n",
      "k_iso .* sin(theta) .^ 2 + k_iso .* cos(theta) .^ 2 ./ delta\n"
     ]
    }
   ],
   "source": [
    "# Cartesian conductivity tensor\n",
    "kxx = -q_cart[0].diff(Ex)\n",
    "kxy = -q_cart[0].diff(Ey)\n",
    "kyx = -q_cart[1].diff(Ex)\n",
    "kyy = -q_cart[1].diff(Ey)\n",
    "print(julia_code(kxx))\n",
    "print(julia_code(kxy))\n",
    "print(julia_code(kyx))\n",
    "print(julia_code(kyy))"
   ]
  },
  {
   "cell_type": "code",
   "execution_count": null,
   "metadata": {},
   "outputs": [],
   "source": []
  }
 ],
 "metadata": {
  "kernelspec": {
   "display_name": "Python 3",
   "language": "python",
   "name": "python3"
  },
  "language_info": {
   "codemirror_mode": {
    "name": "ipython",
    "version": 3
   },
   "file_extension": ".py",
   "mimetype": "text/x-python",
   "name": "python",
   "nbconvert_exporter": "python",
   "pygments_lexer": "ipython3",
   "version": "3.9.6"
  }
 },
 "nbformat": 4,
 "nbformat_minor": 2
}
