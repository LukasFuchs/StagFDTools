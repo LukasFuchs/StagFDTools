{
 "cells": [
  {
   "cell_type": "code",
   "execution_count": 44,
   "metadata": {},
   "outputs": [],
   "source": [
    "from sympy import *\n",
    "k_iso, theta, delta =  symbols(\"k_iso, theta, delta\")\n",
    "Ex, Ey =  symbols(\"Ex, Ey\")"
   ]
  },
  {
   "cell_type": "code",
   "execution_count": 45,
   "metadata": {},
   "outputs": [],
   "source": [
    "Q      = Matrix([[cos(theta), sin(theta)],[-sin(theta), cos(theta)]]) \n",
    "E_cart = Matrix([[Ex],[Ey]]) "
   ]
  },
  {
   "cell_type": "code",
   "execution_count": 46,
   "metadata": {},
   "outputs": [
    {
     "data": {
      "text/latex": [
       "$\\displaystyle \\left[\\begin{matrix}Ex \\cos{\\left(\\theta \\right)} + Ey \\sin{\\left(\\theta \\right)}\\\\- Ex \\sin{\\left(\\theta \\right)} + Ey \\cos{\\left(\\theta \\right)}\\end{matrix}\\right]$"
      ],
      "text/plain": [
       "Matrix([\n",
       "[ Ex*cos(theta) + Ey*sin(theta)],\n",
       "[-Ex*sin(theta) + Ey*cos(theta)]])"
      ]
     },
     "execution_count": 46,
     "metadata": {},
     "output_type": "execute_result"
    }
   ],
   "source": [
    "# Transform E to material coordinates\n",
    "E_rot  = Q*E_cart\n",
    "E_rot"
   ]
  },
  {
   "cell_type": "code",
   "execution_count": 47,
   "metadata": {},
   "outputs": [
    {
     "data": {
      "text/latex": [
       "$\\displaystyle \\left[\\begin{matrix}- k_{iso} \\left(Ex \\cos{\\left(\\theta \\right)} + Ey \\sin{\\left(\\theta \\right)}\\right)\\\\- \\frac{k_{iso} \\left(- Ex \\sin{\\left(\\theta \\right)} + Ey \\cos{\\left(\\theta \\right)}\\right)}{\\delta}\\end{matrix}\\right]$"
      ],
      "text/plain": [
       "Matrix([\n",
       "[       -k_iso*(Ex*cos(theta) + Ey*sin(theta))],\n",
       "[-k_iso*(-Ex*sin(theta) + Ey*cos(theta))/delta]])"
      ]
     },
     "execution_count": 47,
     "metadata": {},
     "output_type": "execute_result"
    }
   ],
   "source": [
    "# Flux in material coordinates (transverse)\n",
    "K     = Matrix([[k_iso, 0],[0, k_iso/delta]])\n",
    "q_rot = -K *E_rot\n",
    "q_rot"
   ]
  },
  {
   "cell_type": "code",
   "execution_count": 48,
   "metadata": {},
   "outputs": [
    {
     "data": {
      "text/latex": [
       "$\\displaystyle \\left[\\begin{matrix}- k_{iso} \\left(Ex \\cos{\\left(\\theta \\right)} + Ey \\sin{\\left(\\theta \\right)}\\right) \\cos{\\left(\\theta \\right)} + \\frac{k_{iso} \\left(- Ex \\sin{\\left(\\theta \\right)} + Ey \\cos{\\left(\\theta \\right)}\\right) \\sin{\\left(\\theta \\right)}}{\\delta}\\\\- k_{iso} \\left(Ex \\cos{\\left(\\theta \\right)} + Ey \\sin{\\left(\\theta \\right)}\\right) \\sin{\\left(\\theta \\right)} - \\frac{k_{iso} \\left(- Ex \\sin{\\left(\\theta \\right)} + Ey \\cos{\\left(\\theta \\right)}\\right) \\cos{\\left(\\theta \\right)}}{\\delta}\\end{matrix}\\right]$"
      ],
      "text/plain": [
       "Matrix([\n",
       "[-k_iso*(Ex*cos(theta) + Ey*sin(theta))*cos(theta) + k_iso*(-Ex*sin(theta) + Ey*cos(theta))*sin(theta)/delta],\n",
       "[-k_iso*(Ex*cos(theta) + Ey*sin(theta))*sin(theta) - k_iso*(-Ex*sin(theta) + Ey*cos(theta))*cos(theta)/delta]])"
      ]
     },
     "execution_count": 48,
     "metadata": {},
     "output_type": "execute_result"
    }
   ],
   "source": [
    "# Transform back to Cartesian\n",
    "q_cart = Q.transpose() * q_rot\n",
    "q_cart"
   ]
  },
  {
   "cell_type": "code",
   "execution_count": 49,
   "metadata": {},
   "outputs": [
    {
     "name": "stdout",
     "output_type": "stream",
     "text": [
      "k_iso .* cos(theta) .^ 2 + k_iso .* sin(theta) .^ 2 ./ delta\n",
      "k_iso .* sin(theta) .* cos(theta) - k_iso .* sin(theta) .* cos(theta) ./ delta\n",
      "k_iso .* sin(theta) .* cos(theta) - k_iso .* sin(theta) .* cos(theta) ./ delta\n",
      "k_iso .* sin(theta) .^ 2 + k_iso .* cos(theta) .^ 2 ./ delta\n"
     ]
    }
   ],
   "source": [
    "# Cartesian conductivity tensor\n",
    "kxx = -q_cart[0].diff(Ex)\n",
    "kxy = -q_cart[0].diff(Ey)\n",
    "kyx = -q_cart[1].diff(Ex)\n",
    "kyy = -q_cart[1].diff(Ey)\n",
    "print(julia_code(kxx))\n",
    "print(julia_code(kxy))\n",
    "print(julia_code(kyx))\n",
    "print(julia_code(kyy))"
   ]
  },
  {
   "cell_type": "code",
   "execution_count": 50,
   "metadata": {},
   "outputs": [],
   "source": [
    "def stencil(kxxW, kxyW, kxxE, kxyE,   kyyS, kyxS, kyyN, kyxN,     kxySW, kxySE, kxyNW, kxyNE, kxxSW, kxxSE, kxxNW, kxxNE, kyySW, kyySE, kyyNW, kyyNE):\n",
    "    uSW, uS, uSE, uW, uC, uE, uNW, uN, uNE = symbols('uSW, uS, uSE, uW, uC, uE, uNW, uN, uNE')\n",
    "\n",
    "    dx, dy = symbols('dx,dy')\n",
    "\n",
    "    dy = dx\n",
    "\n",
    "    ExSW = (uS-uSW)/dx \n",
    "    ExW  = (uC-uW)/dx \n",
    "    ExNW = (uN-uNW)/dx \n",
    "    ExSE = (uSE-uS)/dx \n",
    "    ExE  = (uE-uC)/dx \n",
    "    ExNE = (uNE-uN)/dx \n",
    "\n",
    "    EySW = (uW-uSW)/dy \n",
    "    EyS  = (uC-uS)/dy \n",
    "    EyNW = (uNW-uW)/dy \n",
    "    EySE = (uE-uSE)/dy \n",
    "    EyN  = (uN-uC)/dy \n",
    "    EyNE = (uNE-uE)/dy\n",
    "\n",
    "    ExS = Rational(1,4)*(ExW + ExE + ExSW + ExSE)\n",
    "    ExN = Rational(1,4)*(ExW + ExE + ExNW + ExNE)\n",
    "    EyW = Rational(1,4)*(EyS + EyN + EySW + EyNW)\n",
    "    EyE = Rational(1,4)*(EyS + EyN + EySE + EyNE)\n",
    "\n",
    "    ExS = Rational(1,2)*(ExSW + ExSE)\n",
    "    ExN = Rational(1,2)*(ExNW + ExNE)\n",
    "    EyW = Rational(1,2)*(EySW + EyNW)\n",
    "    EyE = Rational(1,2)*(EySE + EyNE)\n",
    "\n",
    "    # qxW = -kxxW*ExW -kxyW*EyW\n",
    "    # qxE = -kxxE*ExE -kxyE*EyE\n",
    "    # qyS = -kyyS*EyS -kyxS*ExS\n",
    "    # qyN = -kyyN*EyN -kyxN*ExN\n",
    "\n",
    "    # kxyS = kyxS\n",
    "    # kxyN = kyxN\n",
    "    # qxW = -kxxW*ExW - 0*Rational(1,4)*(kxyS*EyS  + kxyN*EyN + kxySW*EySW + kxyNW*EyN)\n",
    "    # qxE = -kxxE*ExE - 0*Rational(1,4)*(kxyS*EyS  + kxyN*EyN + kxySE*EySE + kxyNE*EyN)\n",
    "    # qyS = -kyyS*EyS - 0*Rational(1,4)*(kxyW*ExW  + kxyE*ExE + kxySW*ExSW + kxySE*ExS)\n",
    "    # qyN = -kyyN*EyN - 0*Rational(1,4)*(kxyW*ExW  + kxyE*ExE + kxyNW*ExNW + kxyNE*ExN)\n",
    "\n",
    "    DxNE = 1/2*(  (uNE+uE) - (uN+uC)) / dx\n",
    "    DyNE = 1/2*(  (uNE+uN) - (uE+uC)) / dx\n",
    "    DxNW = 1/2*( -(uNW+uW) + (uN+uC)) / dx\n",
    "    DyNW = 1/2*(  (uNW+uN) - (uW+uC)) / dx\n",
    "    DxSE = 1/2*(  (uSE+uE) - (uS+uC)) / dx\n",
    "    DySE = 1/2*( -(uSE+uS) + (uE+uC)) / dx\n",
    "    DxSW = 1/2*( -(uSW+uW) + (uS+uC)) / dx\n",
    "    DySW = 1/2*( -(uSW+uS) + (uW+uC)) / dx\n",
    "\n",
    "    qxW = -1/2*( kxxSW*DxSW + kxxNW*DxNW + kxySW*DySW + kxyNW*DyNW )\n",
    "    qxE = -1/2*( kxxSE*DxSE + kxxNE*DxNE + kxySE*DySE + kxyNE*DyNE )\n",
    "    qyS = -1/2*( kxySW*DxSW + kxySE*DxSE + kyySW*DySW + kyySE*DySE )\n",
    "    qyN = -1/2*( kxyNW*DxNW + kxyNE*DxNE + kyyNW*DyNW + kyyNE*DyNE )\n",
    "\n",
    "    return -(qxE - qxW)/dx -(qyN - qyS)/dy "
   ]
  },
  {
   "cell_type": "code",
   "execution_count": 51,
   "metadata": {},
   "outputs": [],
   "source": [
    "kxxW, kxyW, kxxE, kxyE = symbols('kxxW, kxyW, kxxE, kxyE')\n",
    "kyyS, kyyN, kyxS, kyxN = symbols('kyyS, kyyN, kyxS, kyxN')\n",
    "kxx1, kxy1, kyx1, kyy1 = symbols('kxx1, kxy1 kyx1, kyy1')\n",
    "kxx2, kxy2, kyx2, kyy2 = symbols('kxx2, kxy2, kyx2, kyy2')\n",
    "\n",
    "kxySW, kxySE, kxyNW, kxyNE = symbols('kxySW, kxySE, kxyNW, kxyNE')\n",
    "kxxSW, kxxSE, kxxNW, kxxNE = symbols('kxxSW, kxxSE, kxxNW, kxxNE')\n",
    "kyySW, kyySE, kyyNW, kyyNE = symbols('kyySW, kyySE, kyyNW, kyyNE')\n",
    "uSW, uS, uSE, uW, uC, uE, uNW, uN, uNE = symbols('uSW, uS, uSE, uW, uC, uE, uNW, uN, uNE')\n"
   ]
  },
  {
   "cell_type": "code",
   "execution_count": 52,
   "metadata": {},
   "outputs": [
    {
     "data": {
      "text/latex": [
       "$\\displaystyle 0$"
      ],
      "text/plain": [
       "0"
      ]
     },
     "execution_count": 52,
     "metadata": {},
     "output_type": "execute_result"
    }
   ],
   "source": [
    "# N/S\n",
    "nodeN = stencil(kxxW, kxyW, kxxE, kxyE,  kyyS, kyxS, kyyN, kyxN,       kxy1, kxy1, kxy2, kxy2, kxx1, kxx1, kxx2, kxx2, kyy1, kyy1, kyy2, kyy2 )\n",
    "nodeS = stencil(kxxW, kxyW, kxxE, kxyE,  kyyS, kyxS, kyyN, kyxN,       kxy2, kxy2, kxy1, kxy1, kxx2, kxx2, kxx1, kxx1, kyy2, kyy2, kyy1, kyy1 )\n",
    "a=nodeS.diff(uN)\n",
    "b=nodeN.diff(uS)\n",
    "(a-b).simplify()"
   ]
  },
  {
   "cell_type": "code",
   "execution_count": 53,
   "metadata": {},
   "outputs": [
    {
     "data": {
      "text/latex": [
       "$\\displaystyle 0$"
      ],
      "text/plain": [
       "0"
      ]
     },
     "execution_count": 53,
     "metadata": {},
     "output_type": "execute_result"
    }
   ],
   "source": [
    "# W/E\n",
    "nodeE = stencil(kxxW, kxyW, kxxE, kxyE,  kyyS, kyxS, kyyN, kyxN,       kxy1, kxy2, kxy1, kxy2, kxx1, kxx2, kxx1, kxx2, kyy1, kyy2, kyy1, kyy2 )\n",
    "nodeW = stencil(kxxW, kxyW, kxxE, kxyE,  kyyS, kyxS, kyyN, kyxN,       kxy2, kxy1, kxy2, kxy1, kxx2, kxx1, kxx2, kxx1, kyy2, kyy1, kyy2, kyy1 )\n",
    "a=nodeE.diff(uW)\n",
    "b=nodeW.diff(uE)\n",
    "(a-b).simplify()"
   ]
  },
  {
   "cell_type": "code",
   "execution_count": 54,
   "metadata": {},
   "outputs": [
    {
     "data": {
      "text/latex": [
       "$\\displaystyle 0$"
      ],
      "text/plain": [
       "0"
      ]
     },
     "execution_count": 54,
     "metadata": {},
     "output_type": "execute_result"
    }
   ],
   "source": [
    "# NE/SW\n",
    "nodeNE = stencil(kxxW, kxyW, kxxE, kxyE,  kyyS, kyxS, kyyN, kyxN,       kxy1, kxy2, kxy2, kxy2, kxx1, kxx2, kxx2, kxx2, kyy1, kyy2, kyy2, kyy2 )\n",
    "nodeSW = stencil(kxxW, kxyW, kxxE, kxyE,  kyyS, kyxS, kyyN, kyxN,       kxy2, kxy1, kxy1, kxy1, kxx2, kxx1, kxx1, kxx1, kyy2, kyy1, kyy1, kyy1 )\n",
    "a=nodeNE.diff(uSW)\n",
    "b=nodeSW.diff(uNE)\n",
    "(a-b).simplify()"
   ]
  },
  {
   "cell_type": "code",
   "execution_count": null,
   "metadata": {},
   "outputs": [],
   "source": []
  }
 ],
 "metadata": {
  "kernelspec": {
   "display_name": "Python 3",
   "language": "python",
   "name": "python3"
  },
  "language_info": {
   "codemirror_mode": {
    "name": "ipython",
    "version": 3
   },
   "file_extension": ".py",
   "mimetype": "text/x-python",
   "name": "python",
   "nbconvert_exporter": "python",
   "pygments_lexer": "ipython3",
   "version": "3.9.6"
  }
 },
 "nbformat": 4,
 "nbformat_minor": 2
}
