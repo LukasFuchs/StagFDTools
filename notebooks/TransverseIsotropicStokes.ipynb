{
 "cells": [
  {
   "cell_type": "code",
   "execution_count": 1,
   "metadata": {},
   "outputs": [],
   "source": [
    "from sympy import *"
   ]
  },
  {
   "cell_type": "code",
   "execution_count": 2,
   "metadata": {},
   "outputs": [],
   "source": [
    "dx, dy, eta = symbols('dx, dy, eta')"
   ]
  },
  {
   "cell_type": "code",
   "execution_count": 23,
   "metadata": {},
   "outputs": [
    {
     "name": "stdout",
     "output_type": "stream",
     "text": [
      "eta/(4*dx*dy)\n",
      "-eta/(4*dx*dy)\n"
     ]
    }
   ],
   "source": [
    "uSW, uS, uSE = symbols('uSW, uS, uSE') \n",
    "uW,  uC, uE  = symbols('uW,  uC, uE') \n",
    "uNW, uN, uNE = symbols('uNW, uN, uNE')\n",
    "vSSW, vSSE   = symbols('vSSW, vSSE')\n",
    "vSWW, vSW, vSE, vSEE = symbols('vSWW, vSW, vSE, vSEE')\n",
    "vNWW, vNW, vNE, vNEE = symbols('vNWW, vNW, vNE, vNEE')\n",
    "vNNW, vNNE   = symbols('vNNW, vNNE')\n",
    "\n",
    "u = Matrix([[uSW, uW, uNW],\n",
    "            [uS,  uC, uN], \n",
    "            [uSE, uE, uNE] ])\n",
    "v = Matrix([[0,    vSWW, vNWW, 0],\n",
    "            [vSSW, vSW,  vNW, vNNW],\n",
    "            [vSSE, vSE,  vNE, vNNE],\n",
    "            [0,    vSEE, vNEE, 0]]) \n",
    "# v = Matrix([[0,    vSSW, vSSE, 0],\n",
    "#             [vSWW, vSW,  vNW, vNWW],\n",
    "#             [vNWW, vSE,  vNE, vNEE],\n",
    "#             [0,    vNNW, vNNE, 0]]) \n",
    "dudx = (u[1:,:] - u[:-1,:])/dx\n",
    "dvdy = (v[:,1:] - v[:,:-1])/dy\n",
    "dvdx = (v[1:,:] - v[:-1,:])/dx\n",
    "dudy = (u[:,1:] - u[:,:-1])/dy \n",
    "\n",
    "divV = dudx + dvdy[1:-1,:]\n",
    "exx  = dudx - Rational(1,2) * divV\n",
    "exy  = Rational(1,2) * (dudy + dvdx[:,1:-1])\n",
    "\n",
    "exx_av = Rational(1,2) * (exx[:,1:] + exx[:,:-1] )\n",
    "exy_av = Rational(1,2) * (exy[1:,:] + exy[:-1,:] )\n",
    "Txx  = 2*eta*exx_av\n",
    "Txy  = 2*eta*exy_av\n",
    "Txx_av = Rational(1,2) * (Txx[:,1:] + Txx[:,:-1] )\n",
    "Txy_av = Rational(1,2) * (Txy[1:,:] + Txy[:-1,:] )\n",
    "fx = (Txx_av[1:,:] - Txx_av[:-1,:])/dx + (Txy_av[:,1:] - Txy_av[:,:-1])/dy\n",
    "print(fx.diff(vNNW)[0])\n",
    "print(fx.diff(vNWW)[0])\n"
   ]
  },
  {
   "cell_type": "code",
   "execution_count": 29,
   "metadata": {},
   "outputs": [
    {
     "data": {
      "text/latex": [
       "$\\displaystyle \\left[\\begin{matrix}\\frac{\\eta}{4 dx dy}\\end{matrix}\\right]$"
      ],
      "text/plain": [
       "Matrix([[eta/(4*dx*dy)]])"
      ]
     },
     "execution_count": 29,
     "metadata": {},
     "output_type": "execute_result"
    }
   ],
   "source": [
    "vSW, vS, vSE = symbols('vSW, vS, vSE') \n",
    "vW,  vC, vE  = symbols('vW,  vC, vE') \n",
    "vNW, vN, vNE = symbols('vNW, vN, vNE')\n",
    "uSSW, uSSE   = symbols('uSSW, uSSE')\n",
    "uSWW, uSW, uSE, uSEE = symbols('uSWW, uSW, uSE, uSEE')\n",
    "uNWW, uNW, uNE, uNEE = symbols('uNWW, uNW, uNE, uNEE')\n",
    "uNNW, uNNE   = symbols('uNNW, uNNE')\n",
    "\n",
    "v = Matrix([[vSW, vW, vNW],\n",
    "            [vS,  vC, vN], \n",
    "            [vSE, vE, vNE] ])\n",
    "u = Matrix([[0,    uSWW, uNWW, 0],\n",
    "            [uSSW, uSW,  uNW, uNNW],\n",
    "            [uSSE, uSE,  uNE, uNNE],\n",
    "            [0,    uSEE, uNEE, 0]]) \n",
    "\n",
    "dudx = (u[1:,:] - u[:-1,:])/dx\n",
    "dvdy = (v[:,1:] - v[:,:-1])/dy\n",
    "dvdx = (v[1:,:] - v[:-1,:])/dx\n",
    "dudy = (u[:,1:] - u[:,:-1])/dy \n",
    "\n",
    "divV = dudx[:,1:-1] + dvdy\n",
    "eyy  = dvdy - Rational(1,2) * divV\n",
    "exy  = Rational(1,2) * (dudy[1:-1,:] + dvdx)\n",
    "\n",
    "eyy_av = Rational(1,2) * (eyy[1:,:] + eyy[:-1,:] )\n",
    "exy_av = Rational(1,2) * (exy[:,1:] + exy[:,:-1] )\n",
    "Tyy  = 2*eta*eyy_av\n",
    "Txy  = 2*eta*exy_av\n",
    "Tyy_av = Rational(1,2) * (Tyy[1:,:] + Tyy[:-1,:] )\n",
    "Txy_av = Rational(1,2) * (Txy[:,1:] + Txy[:,:-1] )\n",
    "fy = (Tyy_av[:,1:] - Tyy_av[:,:-1])/dy + (Txy_av[1:,:] - Txy_av[:-1,:])/dx\n",
    "fy.diff(uSSW)"
   ]
  },
  {
   "cell_type": "code",
   "execution_count": 30,
   "metadata": {},
   "outputs": [
    {
     "data": {
      "text/latex": [
       "$\\displaystyle \\left[\\begin{matrix}- \\frac{\\eta}{4 dx dy}\\end{matrix}\\right]$"
      ],
      "text/plain": [
       "Matrix([[-eta/(4*dx*dy)]])"
      ]
     },
     "execution_count": 30,
     "metadata": {},
     "output_type": "execute_result"
    }
   ],
   "source": [
    "fx.diff(vNNE) "
   ]
  },
  {
   "cell_type": "code",
   "execution_count": 31,
   "metadata": {},
   "outputs": [
    {
     "data": {
      "text/latex": [
       "$\\displaystyle \\left[\\begin{matrix}\\frac{\\eta}{4 dx dy}\\end{matrix}\\right]$"
      ],
      "text/plain": [
       "Matrix([[eta/(4*dx*dy)]])"
      ]
     },
     "execution_count": 31,
     "metadata": {},
     "output_type": "execute_result"
    }
   ],
   "source": [
    "fy.diff(uSSW) "
   ]
  },
  {
   "cell_type": "code",
   "execution_count": 6,
   "metadata": {},
   "outputs": [
    {
     "data": {
      "text/latex": [
       "$\\displaystyle \\left[\\begin{matrix}\\frac{\\eta}{2 dx dy}\\end{matrix}\\right]$"
      ],
      "text/plain": [
       "Matrix([[eta/(2*dx*dy)]])"
      ]
     },
     "execution_count": 6,
     "metadata": {},
     "output_type": "execute_result"
    }
   ],
   "source": [
    "fx.diff(vNNW) - fy.diff(uSSE)"
   ]
  },
  {
   "cell_type": "code",
   "execution_count": 7,
   "metadata": {},
   "outputs": [
    {
     "data": {
      "text/latex": [
       "$\\displaystyle \\left[\\begin{matrix}- \\frac{\\eta}{2 dx dy}\\end{matrix}\\right]$"
      ],
      "text/plain": [
       "Matrix([[-eta/(2*dx*dy)]])"
      ]
     },
     "execution_count": 7,
     "metadata": {},
     "output_type": "execute_result"
    }
   ],
   "source": [
    "fx.diff(vNWW) - fy.diff(uSEE)"
   ]
  },
  {
   "cell_type": "code",
   "execution_count": 8,
   "metadata": {},
   "outputs": [
    {
     "data": {
      "text/latex": [
       "$\\displaystyle \\left[\\begin{matrix}- \\frac{\\eta}{2 dx dy}\\end{matrix}\\right]$"
      ],
      "text/plain": [
       "Matrix([[-eta/(2*dx*dy)]])"
      ]
     },
     "execution_count": 8,
     "metadata": {},
     "output_type": "execute_result"
    }
   ],
   "source": [
    "fx.diff(vSEE) - fy.diff(uNWW)"
   ]
  },
  {
   "cell_type": "code",
   "execution_count": 9,
   "metadata": {},
   "outputs": [
    {
     "data": {
      "text/latex": [
       "$\\displaystyle \\left[\\begin{matrix}0\\end{matrix}\\right]$"
      ],
      "text/plain": [
       "Matrix([[0]])"
      ]
     },
     "execution_count": 9,
     "metadata": {},
     "output_type": "execute_result"
    }
   ],
   "source": [
    "fx.diff(vNW) - fy.diff(uSE)"
   ]
  },
  {
   "cell_type": "code",
   "execution_count": 10,
   "metadata": {},
   "outputs": [
    {
     "data": {
      "text/latex": [
       "$\\displaystyle \\left[\\begin{matrix}0\\end{matrix}\\right]$"
      ],
      "text/plain": [
       "Matrix([[0]])"
      ]
     },
     "execution_count": 10,
     "metadata": {},
     "output_type": "execute_result"
    }
   ],
   "source": [
    "fx.diff(vNE) - fy.diff(uSW)"
   ]
  },
  {
   "cell_type": "code",
   "execution_count": 11,
   "metadata": {},
   "outputs": [
    {
     "data": {
      "text/latex": [
       "$\\displaystyle \\left[\\begin{matrix}0\\end{matrix}\\right]$"
      ],
      "text/plain": [
       "Matrix([[0]])"
      ]
     },
     "execution_count": 11,
     "metadata": {},
     "output_type": "execute_result"
    }
   ],
   "source": [
    "fx.diff(vSW) - fy.diff(uNE)"
   ]
  },
  {
   "cell_type": "code",
   "execution_count": 12,
   "metadata": {},
   "outputs": [
    {
     "data": {
      "text/latex": [
       "$\\displaystyle \\left[\\begin{matrix}0\\end{matrix}\\right]$"
      ],
      "text/plain": [
       "Matrix([[0]])"
      ]
     },
     "execution_count": 12,
     "metadata": {},
     "output_type": "execute_result"
    }
   ],
   "source": [
    "fx.diff(vSE) - fy.diff(uNW)"
   ]
  },
  {
   "cell_type": "code",
   "execution_count": 13,
   "metadata": {},
   "outputs": [
    {
     "data": {
      "text/latex": [
       "$\\displaystyle \\left[\\begin{matrix}0\\end{matrix}\\right]$"
      ],
      "text/plain": [
       "Matrix([[0]])"
      ]
     },
     "execution_count": 13,
     "metadata": {},
     "output_type": "execute_result"
    }
   ],
   "source": [
    "fx.diff(uN) - fx.diff(uS)"
   ]
  },
  {
   "cell_type": "code",
   "execution_count": null,
   "metadata": {},
   "outputs": [],
   "source": []
  }
 ],
 "metadata": {
  "kernelspec": {
   "display_name": "Python 3",
   "language": "python",
   "name": "python3"
  },
  "language_info": {
   "codemirror_mode": {
    "name": "ipython",
    "version": 3
   },
   "file_extension": ".py",
   "mimetype": "text/x-python",
   "name": "python",
   "nbconvert_exporter": "python",
   "pygments_lexer": "ipython3",
   "version": "3.9.6"
  }
 },
 "nbformat": 4,
 "nbformat_minor": 2
}
